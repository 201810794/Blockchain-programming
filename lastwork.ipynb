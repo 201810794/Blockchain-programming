{
 "cells": [
  {
   "cell_type": "markdown",
   "metadata": {},
   "source": [
    "# 201810794 이은후"
   ]
  },
  {
   "cell_type": "code",
   "execution_count": 1,
   "metadata": {},
   "outputs": [
    {
     "name": "stdout",
     "output_type": "stream",
     "text": [
      "Overwriting src/Rsp.sol\n"
     ]
    }
   ],
   "source": [
    "%%writefile src/Rsp.sol\n",
    "pragma solidity 0.5.1;\n",
    "contract Rsp {\n",
    "    // 1: rock, 2: scissors, 3: paper\n",
    "    uint computer;\n",
    "    uint user;\n",
    "    string result;\n",
    "    uint resultNum;\n",
    "    uint betMoney;\n",
    "    uint amount = 1000 wei;\n",
    "    address owner;\n",
    "    address accountB;\n",
    "    mapping (address => uint) balanceOf;\n",
    "    constructor() public {\n",
    "        owner = msg.sender;\n",
    "    }\n",
    "    function deposit(uint input) payable public onlyOwner {\n",
    "        require(msg.value == input);\n",
    "        balanceOf[msg.sender] += input;\n",
    "    }\n",
    "    function setA() public {\n",
    "        uint nonce=0;\n",
    "        computer = uint(uint256(keccak256(abi.encodePacked(block.timestamp, block.difficulty)))%3);\n",
    "        computer += 1;\n",
    "        nonce++;\n",
    "        require(balanceOf[msg.sender] >= amount);\n",
    "        balanceOf[msg.sender] -= amount;\n",
    "        betMoney += amount;\n",
    "    }\n",
    "    function whatANum() public view returns(uint) {\n",
    "        return computer;\n",
    "    }\n",
    "    function setBInfo(address addrB) public {\n",
    "        accountB = addrB;\n",
    "        balanceOf[accountB] = accountB.balance;\n",
    "    }\n",
    "    function setB(uint _user) public {\n",
    "        user = _user;\n",
    "        //balanceOf[accountB] = accountB.balance;\n",
    "        balanceOf[accountB] -= amount;\n",
    "        betMoney += amount;\n",
    "    }\n",
    "    function getBetMoney() public view returns(uint) {\n",
    "        return betMoney;\n",
    "    }\n",
    "    function play() public {\n",
    "        if (computer == user) {\n",
    "            result = \"tie\";\n",
    "        }\n",
    "        else if ((computer == 1 && user == 2) || (computer == 2 && user == 3) || (computer == 3 && user == 1)) {\n",
    "            result = \"A wins\";\n",
    "            resultNum = 1;\n",
    "        }\n",
    "        else if ((computer == 1 && user == 3) || (computer == 2 && user == 1) || (computer == 3 && user == 2)) {\n",
    "            result = \"B wins\";\n",
    "            resultNum = 2;\n",
    "        }\n",
    "    }\n",
    "    function getMatchResult() public view returns(string memory) {\n",
    "        return result;\n",
    "    }\n",
    "    function distributeBetAmount() public payable {\n",
    "        if (resultNum == 1) // A(computer) wins\n",
    "        {\n",
    "            balanceOf[msg.sender] += betMoney;\n",
    "            betMoney -= betMoney;\n",
    "        }\n",
    "        else if (resultNum == 2) // B(user) wins\n",
    "        {\n",
    "            balanceOf[accountB] += betMoney;\n",
    "            betMoney -= betMoney;\n",
    "        }\n",
    "    }\n",
    "    function getBalance() public view returns (uint, uint, uint) {\n",
    "        return (balanceOf[msg.sender], balanceOf[accountB], address(this).balance);\n",
    "    }\n",
    "    modifier onlyOwner {\n",
    "        require(msg.sender == owner);\n",
    "        _;\n",
    "    }\n",
    "}"
   ]
  },
  {
   "cell_type": "code",
   "execution_count": 3,
   "metadata": {},
   "outputs": [
    {
     "name": "stdout",
     "output_type": "stream",
     "text": [
      "\n",
      "======= src/Rsp.sol:Rsp =======\n",
      "Gas estimation:\n",
      "construction:\n",
      "   40866 + 560400 = 601266\n",
      "external:\n",
      "   deposit(uint256):\t21011\n",
      "   distributeBetAmount():\t26924\n",
      "   getBalance():\t1506\n",
      "   getBetMoney():\t528\n",
      "   getMatchResult():\tinfinite\n",
      "   play():\tinfinite\n",
      "   setA():\t82150\n",
      "   setB(uint256):\t61417\n",
      "   setBInfo(address):\t41510\n",
      "   whatANum():\t506\n",
      "Binary: \n",
      "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\n",
      "Contract JSON ABI \n",
      "[{\"constant\":false,\"inputs\":[{\"name\":\"_user\",\"type\":\"uint256\"}],\"name\":\"setB\",\"outputs\":[],\"payable\":false,\"stateMutability\":\"nonpayable\",\"type\":\"function\"},{\"constant\":true,\"inputs\":[],\"name\":\"getBalance\",\"outputs\":[{\"name\":\"\",\"type\":\"uint256\"},{\"name\":\"\",\"type\":\"uint256\"},{\"name\":\"\",\"type\":\"uint256\"}],\"payable\":false,\"stateMutability\":\"view\",\"type\":\"function\"},{\"constant\":false,\"inputs\":[{\"name\":\"addrB\",\"type\":\"address\"}],\"name\":\"setBInfo\",\"outputs\":[],\"payable\":false,\"stateMutability\":\"nonpayable\",\"type\":\"function\"},{\"constant\":false,\"inputs\":[],\"name\":\"setA\",\"outputs\":[],\"payable\":false,\"stateMutability\":\"nonpayable\",\"type\":\"function\"},{\"constant\":true,\"inputs\":[],\"name\":\"getMatchResult\",\"outputs\":[{\"name\":\"\",\"type\":\"string\"}],\"payable\":false,\"stateMutability\":\"view\",\"type\":\"function\"},{\"constant\":true,\"inputs\":[],\"name\":\"whatANum\",\"outputs\":[{\"name\":\"\",\"type\":\"uint256\"}],\"payable\":false,\"stateMutability\":\"view\",\"type\":\"function\"},{\"constant\":true,\"inputs\":[],\"name\":\"getBetMoney\",\"outputs\":[{\"name\":\"\",\"type\":\"uint256\"}],\"payable\":false,\"stateMutability\":\"view\",\"type\":\"function\"},{\"constant\":false,\"inputs\":[],\"name\":\"play\",\"outputs\":[],\"payable\":false,\"stateMutability\":\"nonpayable\",\"type\":\"function\"},{\"constant\":false,\"inputs\":[],\"name\":\"distributeBetAmount\",\"outputs\":[],\"payable\":true,\"stateMutability\":\"payable\",\"type\":\"function\"},{\"constant\":false,\"inputs\":[{\"name\":\"input\",\"type\":\"uint256\"}],\"name\":\"deposit\",\"outputs\":[],\"payable\":true,\"stateMutability\":\"payable\",\"type\":\"function\"},{\"inputs\":[],\"payable\":false,\"stateMutability\":\"nonpayable\",\"type\":\"constructor\"}]\n"
     ]
    }
   ],
   "source": [
    "!solc --abi --bin --gas src/Rsp.sol"
   ]
  },
  {
   "cell_type": "markdown",
   "metadata": {},
   "source": [
    "### geth 사용하여 배포"
   ]
  },
  {
   "cell_type": "code",
   "execution_count": 4,
   "metadata": {},
   "outputs": [
    {
     "name": "stdout",
     "output_type": "stream",
     "text": [
      "Overwriting src/RspDeploy.js\n"
     ]
    }
   ],
   "source": [
    "%%writefile src/RspDeploy.js\n",
    "var Web3 = require('web3');\n",
    "var web3 = new Web3(new Web3.providers.HttpProvider(\"http://localhost:8445\"));\n",
    "var _abiArray  =[{\"constant\":false,\"inputs\":[{\"name\":\"_user\",\"type\":\"uint256\"}],\"name\":\"setB\",\"outputs\":[],\"payable\":false,\"stateMutability\":\"nonpayable\",\"type\":\"function\"},{\"constant\":true,\"inputs\":[],\"name\":\"getBalance\",\"outputs\":[{\"name\":\"\",\"type\":\"uint256\"},{\"name\":\"\",\"type\":\"uint256\"},{\"name\":\"\",\"type\":\"uint256\"}],\"payable\":false,\"stateMutability\":\"view\",\"type\":\"function\"},{\"constant\":false,\"inputs\":[{\"name\":\"addrB\",\"type\":\"address\"}],\"name\":\"setBInfo\",\"outputs\":[],\"payable\":false,\"stateMutability\":\"nonpayable\",\"type\":\"function\"},{\"constant\":false,\"inputs\":[],\"name\":\"setA\",\"outputs\":[],\"payable\":false,\"stateMutability\":\"nonpayable\",\"type\":\"function\"},{\"constant\":true,\"inputs\":[],\"name\":\"getMatchResult\",\"outputs\":[{\"name\":\"\",\"type\":\"string\"}],\"payable\":false,\"stateMutability\":\"view\",\"type\":\"function\"},{\"constant\":true,\"inputs\":[],\"name\":\"whatANum\",\"outputs\":[{\"name\":\"\",\"type\":\"uint256\"}],\"payable\":false,\"stateMutability\":\"view\",\"type\":\"function\"},{\"constant\":true,\"inputs\":[],\"name\":\"getBetMoney\",\"outputs\":[{\"name\":\"\",\"type\":\"uint256\"}],\"payable\":false,\"stateMutability\":\"view\",\"type\":\"function\"},{\"constant\":false,\"inputs\":[],\"name\":\"play\",\"outputs\":[],\"payable\":false,\"stateMutability\":\"nonpayable\",\"type\":\"function\"},{\"constant\":false,\"inputs\":[],\"name\":\"distributeBetAmount\",\"outputs\":[],\"payable\":true,\"stateMutability\":\"payable\",\"type\":\"function\"},{\"constant\":false,\"inputs\":[{\"name\":\"input\",\"type\":\"uint256\"}],\"name\":\"deposit\",\"outputs\":[],\"payable\":true,\"stateMutability\":\"payable\",\"type\":\"function\"},{\"inputs\":[],\"payable\":false,\"stateMutability\":\"nonpayable\",\"type\":\"constructor\"}];\n",
    "var _bin = \"0x\" + \"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\";\n",
    "\n",
    "async function deploy() {\n",
    "    const accounts = await web3.eth.getAccounts();\n",
    "    console.log(\"Deploying the contract from \" + accounts[0]);\n",
    "    var deployed = await new web3.eth.Contract(_abiArray)\n",
    "        .deploy({data: _bin})\n",
    "        .send({from: accounts[0], gas: 1000000}, function(err, transactionHash) {\n",
    "                if(!err) console.log(\"hash: \" + transactionHash); \n",
    "        })\n",
    "    console.log(\"---> The contract deployed to: \" + deployed.options.address)\n",
    "}\n",
    "deploy()"
   ]
  },
  {
   "cell_type": "markdown",
   "metadata": {},
   "source": [
    "마이닝하여 컨트랙주소 얻음"
   ]
  },
  {
   "cell_type": "code",
   "execution_count": 5,
   "metadata": {},
   "outputs": [
    {
     "name": "stdout",
     "output_type": "stream",
     "text": [
      "Deploying the contract from 0x52CadD19F40f5F5f544F33FDE2f8FC118862E4F9\n",
      "hash: 0x8f51a31c62ad58827ba2f3d029fb70f3454df54017248817e5fde131a9a88a6f\n",
      "---> The contract deployed to: 0x9c3174d6894d519871b10C6F9012213425E43042\n"
     ]
    }
   ],
   "source": [
    "!node src/RspDeploy.js"
   ]
  },
  {
   "cell_type": "code",
   "execution_count": 6,
   "metadata": {},
   "outputs": [
    {
     "name": "stdout",
     "output_type": "stream",
     "text": [
      "Overwriting src/RspUse.js\n"
     ]
    }
   ],
   "source": [
    "%%writefile src/RspUse.js\n",
    "var Web3=require('web3');\n",
    "var web3 = new Web3(new Web3.providers.HttpProvider(\"http://localhost:8445\"));\n",
    "var _abiArray=[{\"constant\":false,\"inputs\":[{\"name\":\"_user\",\"type\":\"uint256\"}],\"name\":\"setB\",\"outputs\":[],\"payable\":false,\"stateMutability\":\"nonpayable\",\"type\":\"function\"},{\"constant\":true,\"inputs\":[],\"name\":\"getBalance\",\"outputs\":[{\"name\":\"\",\"type\":\"uint256\"},{\"name\":\"\",\"type\":\"uint256\"},{\"name\":\"\",\"type\":\"uint256\"}],\"payable\":false,\"stateMutability\":\"view\",\"type\":\"function\"},{\"constant\":false,\"inputs\":[{\"name\":\"addrB\",\"type\":\"address\"}],\"name\":\"setBInfo\",\"outputs\":[],\"payable\":false,\"stateMutability\":\"nonpayable\",\"type\":\"function\"},{\"constant\":false,\"inputs\":[],\"name\":\"setA\",\"outputs\":[],\"payable\":false,\"stateMutability\":\"nonpayable\",\"type\":\"function\"},{\"constant\":true,\"inputs\":[],\"name\":\"getMatchResult\",\"outputs\":[{\"name\":\"\",\"type\":\"string\"}],\"payable\":false,\"stateMutability\":\"view\",\"type\":\"function\"},{\"constant\":true,\"inputs\":[],\"name\":\"whatANum\",\"outputs\":[{\"name\":\"\",\"type\":\"uint256\"}],\"payable\":false,\"stateMutability\":\"view\",\"type\":\"function\"},{\"constant\":true,\"inputs\":[],\"name\":\"getBetMoney\",\"outputs\":[{\"name\":\"\",\"type\":\"uint256\"}],\"payable\":false,\"stateMutability\":\"view\",\"type\":\"function\"},{\"constant\":false,\"inputs\":[],\"name\":\"play\",\"outputs\":[],\"payable\":false,\"stateMutability\":\"nonpayable\",\"type\":\"function\"},{\"constant\":false,\"inputs\":[],\"name\":\"distributeBetAmount\",\"outputs\":[],\"payable\":true,\"stateMutability\":\"payable\",\"type\":\"function\"},{\"constant\":false,\"inputs\":[{\"name\":\"input\",\"type\":\"uint256\"}],\"name\":\"deposit\",\"outputs\":[],\"payable\":true,\"stateMutability\":\"payable\",\"type\":\"function\"},{\"inputs\":[],\"payable\":false,\"stateMutability\":\"nonpayable\",\"type\":\"constructor\"}];\n",
    "async function doIt() {\n",
    "    var rsp = new web3.eth.Contract(_abiArray, '0x9c3174d6894d519871b10C6F9012213425E43042');\n",
    "    const accounts = await web3.eth.getAccounts();\n",
    "    await rsp.methods.deposit(1000).send({from:accounts[0],gas:1000000,value:1000});\n",
    "    await rsp.methods.setBInfo(accounts[1]).send({from:accounts[0],gas:1000000});\n",
    "    console.log(\"<BEFORE game>\");\n",
    "    rsp.methods.getBalance().call().then(function(value){console.log(value);});\n",
    "    await rsp.methods.setA().send({from:accounts[0],gas:1000000});\n",
    "    console.log(\"\\n\");\n",
    "    console.log(\"What A choose: \");\n",
    "    rsp.methods.whatANum().call().then(function(value){console.log(value);});\n",
    "    await rsp.methods.setB(3).send({from:accounts[0],gas:1000000});\n",
    "    await rsp.methods.play().send({from:accounts[0],gas:1000000});\n",
    "    rsp.methods.getMatchResult().call().then(function(value){console.log(value);});\n",
    "    await rsp.methods.distributeBetAmount().send({from:accounts[0],gas:1000000});\n",
    "    console.log(\"\\n\");\n",
    "    console.log(\"<AFTER game>\");\n",
    "    rsp.methods.getBalance().call().then(function(value){console.log(value);});\n",
    "}\n",
    "doIt()"
   ]
  },
  {
   "cell_type": "markdown",
   "metadata": {},
   "source": [
    "### 마이닝을 해주어 결과를 얻었음"
   ]
  },
  {
   "cell_type": "markdown",
   "metadata": {},
   "source": [
    "# 1: rock, 2: scissors, 3: paper로 설정"
   ]
  },
  {
   "cell_type": "markdown",
   "metadata": {},
   "source": [
    "### 1. B가 이긴 경우"
   ]
  },
  {
   "cell_type": "code",
   "execution_count": 7,
   "metadata": {},
   "outputs": [
    {
     "name": "stdout",
     "output_type": "stream",
     "text": [
      "<BEFORE game>\n",
      "Result { '0': '1000', '1': '269440000000000000999', '2': '1000' }\n",
      "\n",
      "\n",
      "What A choose: \n",
      "1\n",
      "B wins\n",
      "\n",
      "\n",
      "<AFTER game>\n",
      "Result { '0': '0', '1': '269440000000000001999', '2': '1000' }\n"
     ]
    }
   ],
   "source": [
    "!node src/RspUse.js"
   ]
  },
  {
   "cell_type": "markdown",
   "metadata": {},
   "source": [
    "### 2. 비긴 경우"
   ]
  },
  {
   "cell_type": "code",
   "execution_count": 8,
   "metadata": {},
   "outputs": [
    {
     "name": "stdout",
     "output_type": "stream",
     "text": [
      "<BEFORE game>\n",
      "Result { '0': '1000', '1': '269440000000000000999', '2': '2000' }\n",
      "\n",
      "\n",
      "What A choose: \n",
      "3\n",
      "tie\n",
      "\n",
      "\n",
      "<AFTER game>\n",
      "Result { '0': '0', '1': '269440000000000001999', '2': '2000' }\n"
     ]
    }
   ],
   "source": [
    "!node src/RspUse.js"
   ]
  },
  {
   "cell_type": "markdown",
   "metadata": {},
   "source": [
    "### 3. A가 이긴 경우"
   ]
  },
  {
   "cell_type": "code",
   "execution_count": 9,
   "metadata": {},
   "outputs": [
    {
     "name": "stdout",
     "output_type": "stream",
     "text": [
      "<BEFORE game>\n",
      "Result { '0': '1000', '1': '269440000000000000999', '2': '3000' }\n",
      "\n",
      "\n",
      "What A choose: \n",
      "2\n",
      "A wins\n",
      "\n",
      "\n",
      "<AFTER game>\n",
      "Result { '0': '2000', '1': '269439999999999999999', '2': '3000' }\n"
     ]
    }
   ],
   "source": [
    "!node src/RspUse.js"
   ]
  },
  {
   "cell_type": "code",
   "execution_count": null,
   "metadata": {},
   "outputs": [],
   "source": []
  }
 ],
 "metadata": {
  "kernelspec": {
   "display_name": "Python 3",
   "language": "python",
   "name": "python3"
  },
  "language_info": {
   "codemirror_mode": {
    "name": "ipython",
    "version": 3
   },
   "file_extension": ".py",
   "mimetype": "text/x-python",
   "name": "python",
   "nbconvert_exporter": "python",
   "pygments_lexer": "ipython3",
   "version": "3.7.3"
  }
 },
 "nbformat": 4,
 "nbformat_minor": 2
}
