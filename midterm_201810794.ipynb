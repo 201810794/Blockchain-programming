{
 "cells": [
  {
   "cell_type": "markdown",
   "metadata": {},
   "source": [
    "# 휴먼과 201810794 이은후"
   ]
  },
  {
   "cell_type": "markdown",
   "metadata": {},
   "source": [
    "------"
   ]
  },
  {
   "cell_type": "markdown",
   "metadata": {},
   "source": [
    "# 문제 2"
   ]
  },
  {
   "cell_type": "markdown",
   "metadata": {},
   "source": [
    "## 2-1 답"
   ]
  },
  {
   "cell_type": "code",
   "execution_count": 1,
   "metadata": {},
   "outputs": [
    {
     "name": "stdout",
     "output_type": "stream",
     "text": [
      "Overwriting src/Math.sol\n"
     ]
    }
   ],
   "source": [
    "%%writefile src/Math.sol\n",
    "pragma solidity 0.4.25;\n",
    "contract powerOf2 {\n",
    "    uint256 output;\n",
    "    function PowerOf2(uint input) public {\n",
    "        output=1;\n",
    "        for(uint256 i=0; i<input; i++){\n",
    "            output = output*2;\n",
    "        }\n",
    "    }\n",
    "    function getResult() public view returns (uint256) {\n",
    "        return output;\n",
    "    }\n",
    "}"
   ]
  },
  {
   "cell_type": "markdown",
   "metadata": {},
   "source": [
    "**컨트랙은 Math.sol로 저장하고, 함수는 powerOf2로 명명해서 프로그램을 작성하였음**"
   ]
  },
  {
   "cell_type": "markdown",
   "metadata": {},
   "source": [
    "## 2-2 답"
   ]
  },
  {
   "cell_type": "code",
   "execution_count": 2,
   "metadata": {},
   "outputs": [
    {
     "name": "stdout",
     "output_type": "stream",
     "text": [
      "\n",
      "======= src/Math.sol:powerOf2 =======\n",
      "Gas estimation:\n",
      "construction:\n",
      "   105 + 52600 = 52705\n",
      "external:\n",
      "   PowerOf2(uint256):\tinfinite\n",
      "   getResult():\t424\n"
     ]
    }
   ],
   "source": [
    "!solc --gas src/Math.sol"
   ]
  },
  {
   "cell_type": "markdown",
   "metadata": {},
   "source": [
    "**solc컴파일을 통해 gas 먼저 출력**"
   ]
  },
  {
   "cell_type": "code",
   "execution_count": 3,
   "metadata": {},
   "outputs": [],
   "source": [
    "!echo | set /p=\"exports._compiled=\" > src\\Math.js\n",
    "!solc --optimize --combined-json abi,bin,interface src/Math.sol >> src\\Math.js"
   ]
  },
  {
   "cell_type": "code",
   "execution_count": 4,
   "metadata": {},
   "outputs": [
    {
     "name": "stdout",
     "output_type": "stream",
     "text": [
      "exports._compiled={\"contracts\":{\"src/Math.sol:powerOf2\":{\"abi\":\"[{\\\"constant\\\":false,\\\"inputs\\\":[{\\\"name\\\":\\\"input\\\",\\\"type\\\":\\\"uint256\\\"}],\\\"name\\\":\\\"PowerOf2\\\",\\\"outputs\\\":[],\\\"payable\\\":false,\\\"stateMutability\\\":\\\"nonpayable\\\",\\\"type\\\":\\\"function\\\"},{\\\"constant\\\":true,\\\"inputs\\\":[],\\\"name\\\":\\\"getResult\\\",\\\"outputs\\\":[{\\\"name\\\":\\\"\\\",\\\"type\\\":\\\"uint256\\\"}],\\\"payable\\\":false,\\\"stateMutability\\\":\\\"view\\\",\\\"type\\\":\\\"function\\\"}]\",\"bin\":\"608060405234801561001057600080fd5b5060dd8061001f6000396000f30060806040526004361060485763ffffffff7c0100000000000000000000000000000000000000000000000000000000600035041663c25c14cc8114604d578063de292789146064575b600080fd5b348015605857600080fd5b5060626004356088565b005b348015606f57600080fd5b50607660ab565b60408051918252519081900360200190f35b600160009081555b8181101560a7576000805460020290556001016090565b5050565b600054905600a165627a7a72305820954693b9168d0fed7b20420ed30aa3c0a240ae77422f6bc934c61d48d1a05aa70029\"}},\"version\":\"0.4.25+commit.59dbf8f1.Windows.msvc\"}\n"
     ]
    }
   ],
   "source": [
    "!type src\\Math.js"
   ]
  },
  {
   "cell_type": "code",
   "execution_count": 5,
   "metadata": {},
   "outputs": [
    {
     "name": "stdout",
     "output_type": "stream",
     "text": [
      "Overwriting src/MathImport.js\n"
     ]
    }
   ],
   "source": [
    "%%writefile src/MathImport.js\n",
    "const my = require('./Math');\n",
    "console.log(\"- compiled results: \" +my);\n",
    "console.log(\"- ABI: \"+my._compiled.contracts['src/Math.sol:powerOf2'].abi);\n",
    "console.log(\"- Bytecode: \"+my._compiled.contracts['src/Math.sol:powerOf2'].bin);"
   ]
  },
  {
   "cell_type": "code",
   "execution_count": 6,
   "metadata": {},
   "outputs": [
    {
     "name": "stdout",
     "output_type": "stream",
     "text": [
      "- compiled results: [object Object]\n",
      "- ABI: [{\"constant\":false,\"inputs\":[{\"name\":\"input\",\"type\":\"uint256\"}],\"name\":\"PowerOf2\",\"outputs\":[],\"payable\":false,\"stateMutability\":\"nonpayable\",\"type\":\"function\"},{\"constant\":true,\"inputs\":[],\"name\":\"getResult\",\"outputs\":[{\"name\":\"\",\"type\":\"uint256\"}],\"payable\":false,\"stateMutability\":\"view\",\"type\":\"function\"}]\n",
      "- Bytecode: 608060405234801561001057600080fd5b5060dd8061001f6000396000f30060806040526004361060485763ffffffff7c0100000000000000000000000000000000000000000000000000000000600035041663c25c14cc8114604d578063de292789146064575b600080fd5b348015605857600080fd5b5060626004356088565b005b348015606f57600080fd5b50607660ab565b60408051918252519081900360200190f35b600160009081555b8181101560a7576000805460020290556001016090565b5050565b600054905600a165627a7a72305820954693b9168d0fed7b20420ed30aa3c0a240ae77422f6bc934c61d48d1a05aa70029\n"
     ]
    }
   ],
   "source": [
    "!node src/MathImport.js"
   ]
  },
  {
   "cell_type": "markdown",
   "metadata": {},
   "source": [
    "**이후 echo명령어를 이용하여 컴파일 결과를 javascript파일로 저장한 후, node에서 나머지 abi와 bin을 출력**"
   ]
  },
  {
   "cell_type": "markdown",
   "metadata": {},
   "source": [
    "## 2-3 답"
   ]
  },
  {
   "cell_type": "code",
   "execution_count": 7,
   "metadata": {},
   "outputs": [
    {
     "name": "stdout",
     "output_type": "stream",
     "text": [
      "Overwriting src/MathDeployFromFile.js\n"
     ]
    }
   ],
   "source": [
    "%%writefile src/MathDeployFromFile.js\n",
    "var Web3=require('web3');\n",
    "var my = require('./Math');  //cotaining abi,bin\n",
    "var web3;\n",
    "if (typeof web3 !== 'undefined') {\n",
    "    web3 = new Web3(web3.currentProvider);\n",
    "} else {\n",
    "    web3 = new Web3(new Web3.providers.HttpProvider(\"http://localhost:8446\"));\n",
    "}\n",
    "//abi from Timer.js\n",
    "var _abiArray=JSON.parse(my._compiled.contracts['src/Math.sol:powerOf2'].abi);   //JSON parsing needed!!\n",
    "console.log(\"- ABI: \"+my._compiled.contracts['src/Math.sol:powerOf2'].abi);\n",
    "//bin from Timer.js\n",
    "var _bin=my._compiled.contracts['src/Math.sol:powerOf2'].bin;\n",
    "console.log(\"- Bytecode: \"+my._compiled.contracts['src/Math.sol:powerOf2'].bin);\n",
    "var _contract = new web3.eth.Contract(_abiArray);\n",
    "//unlock the account with a password provided\n",
    "//web3.personal.unlockAccount(web3.eth.accounts[0],'password');\n",
    "_contract\n",
    "    .deploy({data:\"0x\"+_bin})\n",
    "    .send({from: \"0x52cadd19f40f5f5f544f33fde2f8fc118862e4f9\", gas: 364124, gasPrice: '1000000000'})\n",
    "    .then(function(newContractInstance){\n",
    "        console.log(\"- Contract Address: \"+newContractInstance.options.address) // instance with the new contract address\n",
    "    });"
   ]
  },
  {
   "cell_type": "code",
   "execution_count": 29,
   "metadata": {},
   "outputs": [
    {
     "name": "stdout",
     "output_type": "stream",
     "text": [
      "- ABI: [{\"constant\":false,\"inputs\":[{\"name\":\"input\",\"type\":\"uint256\"}],\"name\":\"PowerOf2\",\"outputs\":[],\"payable\":false,\"stateMutability\":\"nonpayable\",\"type\":\"function\"},{\"constant\":true,\"inputs\":[],\"name\":\"getResult\",\"outputs\":[{\"name\":\"\",\"type\":\"uint256\"}],\"payable\":false,\"stateMutability\":\"view\",\"type\":\"function\"}]\n",
      "- Bytecode: 608060405234801561001057600080fd5b5060dd8061001f6000396000f30060806040526004361060485763ffffffff7c0100000000000000000000000000000000000000000000000000000000600035041663c25c14cc8114604d578063de292789146064575b600080fd5b348015605857600080fd5b5060626004356088565b005b348015606f57600080fd5b50607660ab565b60408051918252519081900360200190f35b600160009081555b8181101560a7576000805460020290556001016090565b5050565b600054905600a165627a7a72305820954693b9168d0fed7b20420ed30aa3c0a240ae77422f6bc934c61d48d1a05aa70029\n",
      "- Contract Address: 0x2D5184d273542aBE71bBcfdc2Eb54d27CC685c12\n"
     ]
    }
   ],
   "source": [
    "!node src/MathDeployFromFile.js"
   ]
  },
  {
   "cell_type": "markdown",
   "metadata": {},
   "source": [
    "**node로 배포하여 컨트랙주소를 얻음**"
   ]
  },
  {
   "cell_type": "markdown",
   "metadata": {},
   "source": [
    "## 2-4 답"
   ]
  },
  {
   "cell_type": "code",
   "execution_count": 33,
   "metadata": {},
   "outputs": [
    {
     "name": "stdout",
     "output_type": "stream",
     "text": [
      "Overwriting src/mathUse.js\n"
     ]
    }
   ],
   "source": [
    "%%writefile src/mathUse.js\n",
    "var Web3=require('web3');\n",
    "var my = require('./Math');  //cotaining abi,bin\n",
    "var web3 = new Web3(new Web3.providers.HttpProvider(\"http://localhost:8446\"));\n",
    "//abi from Math.js\n",
    "var _abiArray=JSON.parse(my._compiled.contracts['src/Math.sol:powerOf2'].abi);   //JSON parsing needed!!\n",
    "var math = new web3.eth.Contract(_abiArray,\"0x2D5184d273542aBE71bBcfdc2Eb54d27CC685c12\");\n",
    "//math.methods.PowerOf2(8).send({from:\"0x52cadd19f40f5f5f544f33fde2f8fc118862e4f9\", gas:100000});\n",
    "math.methods.PowerOf2(32).send({from:\"0x52cadd19f40f5f5f544f33fde2f8fc118862e4f9\", gas:1000000});\n",
    "math.methods.getResult().call().then(function(value) {console.log('result:',value);})"
   ]
  },
  {
   "cell_type": "code",
   "execution_count": 32,
   "metadata": {
    "scrolled": true
   },
   "outputs": [
    {
     "name": "stdout",
     "output_type": "stream",
     "text": [
      "result: 256\n"
     ]
    }
   ],
   "source": [
    "!node src/mathUse.js"
   ]
  },
  {
   "cell_type": "code",
   "execution_count": 35,
   "metadata": {
    "scrolled": true
   },
   "outputs": [
    {
     "name": "stdout",
     "output_type": "stream",
     "text": [
      "result: 4294967296\n"
     ]
    }
   ],
   "source": [
    "!node src/mathUse.js"
   ]
  },
  {
   "cell_type": "markdown",
   "metadata": {},
   "source": [
    "**node로 사용한 모습 (각각 8과 32를 입력하여 나온 결과)**"
   ]
  },
  {
   "cell_type": "markdown",
   "metadata": {},
   "source": [
    "## 2-5 답"
   ]
  },
  {
   "cell_type": "code",
   "execution_count": 37,
   "metadata": {},
   "outputs": [
    {
     "name": "stdout",
     "output_type": "stream",
     "text": [
      "Overwriting scripts/powerOf2.html\n"
     ]
    }
   ],
   "source": [
    "%%writefile scripts/powerOf2.html\n",
    "<!doctype>\n",
    "<html>\n",
    "<head>\n",
    "<script src=\"..\\node_modules\\web3\\dist\\web3.min.js\"></script>\n",
    "<script type=\"text/javascript\">\n",
    "    var web3 = new Web3(new Web3.providers.HttpProvider(\"http://localhost:8446\"));\n",
    "    function displayPowerof2() {\n",
    "    \n",
    "        var math = new web3.eth.Contract([{\"constant\":false,\"inputs\":[{\"name\":\"input\",\"type\":\"uint256\"}],\"name\":\"PowerOf2\",\"outputs\":[],\"payable\":false,\"stateMutability\":\"nonpayable\",\"type\":\"function\"},{\"constant\":true,\"inputs\":[],\"name\":\"getResult\",\"outputs\":[{\"name\":\"\",\"type\":\"uint256\"}],\"payable\":false,\"stateMutability\":\"view\",\"type\":\"function\"}],\"0x2D5184d273542aBE71bBcfdc2Eb54d27CC685c12\");\n",
    "        math.methods.getResult().call().then(function(value) {\n",
    "                                   document.getElementById('result').innerText = \"The message from blockchain: \" + value;         \n",
    "        });\n",
    "    }\n",
    "</script>\n",
    "</head>\n",
    "<body>\n",
    "    <h1>Function 'powerOf2' Result</h1>\n",
    "    <button type=\"button\" onClick=\"displayPowerof2();\">Display Result</button>\n",
    "    <div></div>\n",
    "    <div id=\"result\"></div>\n",
    "</body>\n",
    "</html>"
   ]
  },
  {
   "cell_type": "markdown",
   "metadata": {},
   "source": [
    "**웹페이지 powerOf2.html에서 정상적으로 32를 입력한 결과가 출력되었음**"
   ]
  },
  {
   "cell_type": "markdown",
   "metadata": {},
   "source": [
    "----"
   ]
  },
  {
   "cell_type": "markdown",
   "metadata": {},
   "source": [
    "# 문제1"
   ]
  },
  {
   "cell_type": "markdown",
   "metadata": {},
   "source": [
    "geth@8446 을 만든 후 시작하였음"
   ]
  },
  {
   "cell_type": "markdown",
   "metadata": {},
   "source": [
    "## 1-1 답"
   ]
  },
  {
   "cell_type": "code",
   "execution_count": 92,
   "metadata": {},
   "outputs": [
    {
     "name": "stdout",
     "output_type": "stream",
     "text": [
      "Overwriting src/1-1.js\n"
     ]
    }
   ],
   "source": [
    "%%writefile src/1-1.js\n",
    "console.log(JSON.stringify(admin.nodeInfo));\n",
    "//console.log(admin.nodeInfo);"
   ]
  },
  {
   "cell_type": "code",
   "execution_count": 93,
   "metadata": {
    "scrolled": true
   },
   "outputs": [
    {
     "name": "stdout",
     "output_type": "stream",
     "text": [
      "{\"enode\":\"enode://dd1798fb2d5337208bcf6c3aa3601747f843bb13d4a56d5f8f39c9ddfce2a934fe4895442d78616f612c706fe8d5def0a28a8100d3b7af4ee4f8621a62847630@125.128.228.140:38446\",\"enr\":\"0xf89cb840cdfcae982db71de4152f1070bdb9c5c4614191eacdb6c6bbadfcf5006da0a04a3100e506ab5885665a31c7d599aa78382bfef2d3179270522a2e24cead62291a2083636170ccc5836574683ec5836574683f826964827634826970847d80e48c89736563703235366b31a102dd1798fb2d5337208bcf6c3aa3601747f843bb13d4a56d5f8f39c9ddfce2a9348374637082962e8375647082962e\",\"id\":\"fa84d337cd32bd172720b761f106a228631a1879c9f4e04fa96fe65ed4c9cdaa\",\"ip\":\"125.128.228.140\",\"listenAddr\":\"[::]:38446\",\"name\":\"Geth/Midterm/v1.8.20-stable-24d727b6/windows-amd64/go1.11.2\",\"ports\":{\"discovery\":38446,\"listener\":38446},\"protocols\":{\"eth\":{\"config\":{\"chainId\":36,\"eip150Hash\":\"0x0000000000000000000000000000000000000000000000000000000000000000\",\"eip155Block\":0,\"eip158Block\":0,\"homesteadBlock\":0},\"difficulty\":56741004,\"genesis\":\"0x5704d029fe80f4fb605c0cb5e31d591511f10a46a0cb8166f97d8d559f9bc5b0\",\"head\":\"0x52de28bcadbd3af663fb57523a64dd46020ae9b34e83ebfc5951b0bd36619b4b\",\"network\":36}}}\n",
      "true\n"
     ]
    }
   ],
   "source": [
    "!geth --exec \"loadScript('src/1-1.js')\" attach http://localhost:8446"
   ]
  },
  {
   "cell_type": "markdown",
   "metadata": {},
   "source": [
    "**console.log(admin.nodeInfo)를 했을 때 [object object]로 출력되어 JSON.stringify를 사용하여 정상적으로 admin.nodeInfo를 출력하였음**"
   ]
  },
  {
   "cell_type": "markdown",
   "metadata": {},
   "source": [
    "## 1-2 답"
   ]
  },
  {
   "cell_type": "code",
   "execution_count": 103,
   "metadata": {},
   "outputs": [
    {
     "name": "stdout",
     "output_type": "stream",
     "text": [
      "Overwriting src/1-2.js\n"
     ]
    }
   ],
   "source": [
    "%%writefile src/1-2.js\n",
    "var bal1=eth.getBalance(eth.accounts[0]);\n",
    "var bal2=eth.getBalance(eth.accounts[1]);\n",
    "\n",
    "console.log('Accounts: ', eth.accounts);\n",
    "console.log('Balance of account1: ', web3.fromWei(bal1,\"ether\"), 'ether');\n",
    "console.log('Balance of account2: ', web3.fromWei(bal2,\"ether\"), 'ether');\n",
    "console.log('Block number: ', eth.blockNumber);"
   ]
  },
  {
   "cell_type": "code",
   "execution_count": 104,
   "metadata": {},
   "outputs": [
    {
     "name": "stdout",
     "output_type": "stream",
     "text": [
      "Accounts:  0x52cadd19f40f5f5f544f33fde2f8fc118862e4f9,0x81f6c6b03cbab015ea7142a0ac6bccf00aac2407,0x4fc61eddc339a9ee54ba8356770bdb2cf0b2dd68,0x79a6fea81c365c8f804e4394271a6f240c3de136\n",
      "Balance of account1:  1698.5449999999999 ether\n",
      "Balance of account2:  268.33 ether\n",
      "Block number:  429\n",
      "true\n"
     ]
    }
   ],
   "source": [
    "!geth --exec \"loadScript('src/1-2.js')\" attach http://localhost:8446"
   ]
  },
  {
   "cell_type": "markdown",
   "metadata": {},
   "source": [
    "**계정, ether잔고, block number를 출력한 모습**"
   ]
  },
  {
   "cell_type": "markdown",
   "metadata": {},
   "source": [
    "## 1-3 답"
   ]
  },
  {
   "cell_type": "code",
   "execution_count": 105,
   "metadata": {},
   "outputs": [
    {
     "name": "stdout",
     "output_type": "stream",
     "text": [
      "Overwriting src/1-3.js\n"
     ]
    }
   ],
   "source": [
    "%%writefile src/1-3.js\n",
    "var sender = eth.coinbase;\n",
    "var receiver = eth.accounts[1];\n",
    "eth.sendTransaction(\n",
    "    {from:sender, to:receiver, value:web3.toWei(1.11,\"ether\")}\n",
    ");"
   ]
  },
  {
   "cell_type": "code",
   "execution_count": 106,
   "metadata": {},
   "outputs": [
    {
     "name": "stdout",
     "output_type": "stream",
     "text": [
      "true\n"
     ]
    }
   ],
   "source": [
    "!geth --exec \"loadScript('src/1-3.js')\" attach http://localhost:8446"
   ]
  },
  {
   "cell_type": "markdown",
   "metadata": {},
   "source": [
    "hash: 0xb26c7bb7bc4dde20a09aa3bca9e2c427caa9c96100c7e5221ff177aaba6fa86c"
   ]
  },
  {
   "cell_type": "markdown",
   "metadata": {},
   "source": [
    "**거래가 발생한 hash주소는 geth 서버창에서 가져왔음**"
   ]
  },
  {
   "cell_type": "markdown",
   "metadata": {},
   "source": [
    "## 1-4 답"
   ]
  },
  {
   "cell_type": "code",
   "execution_count": 107,
   "metadata": {},
   "outputs": [
    {
     "name": "stdout",
     "output_type": "stream",
     "text": [
      "Overwriting src/1-4.js\n"
     ]
    }
   ],
   "source": [
    "%%writefile src/1-4.js\n",
    "transHash=\"0xb26c7bb7bc4dde20a09aa3bca9e2c427caa9c96100c7e5221ff177aaba6fa86c\";\n",
    "console.log(JSON.stringify(eth.getTransactionReceipt(transHash)));"
   ]
  },
  {
   "cell_type": "code",
   "execution_count": 108,
   "metadata": {},
   "outputs": [
    {
     "name": "stdout",
     "output_type": "stream",
     "text": [
      "{\"blockHash\":\"0x7224b3285368e77641bfdf4ce49533272b1a42273199b5514fd09f13f177abf2\",\"blockNumber\":430,\"contractAddress\":null,\"cumulativeGasUsed\":21000,\"from\":\"0x52cadd19f40f5f5f544f33fde2f8fc118862e4f9\",\"gasUsed\":21000,\"logs\":[],\"logsBloom\":\"0x00000000000000000000000000000000000000000000000000000000000000000000000000000000000000000000000000000000000000000000000000000000000000000000000000000000000000000000000000000000000000000000000000000000000000000000000000000000000000000000000000000000000000000000000000000000000000000000000000000000000000000000000000000000000000000000000000000000000000000000000000000000000000000000000000000000000000000000000000000000000000000000000000000000000000000000000000000000000000000000000000000000000000000000000000000000\",\"root\":\"0x1b37ee2870ea9f5bb01ba1676734b4c3ec13b92994a337a531ffd966424a8016\",\"to\":\"0x81f6c6b03cbab015ea7142a0ac6bccf00aac2407\",\"transactionHash\":\"0xb26c7bb7bc4dde20a09aa3bca9e2c427caa9c96100c7e5221ff177aaba6fa86c\",\"transactionIndex\":0}\n",
      "true\n"
     ]
    }
   ],
   "source": [
    "!geth --exec \"loadScript('src/1-4.js')\" attach http://localhost:8446"
   ]
  },
  {
   "cell_type": "markdown",
   "metadata": {},
   "source": [
    "**1-1과 같은 문제로 인해 JSON.stringify를 사용하여 getTransactionReceipt 출력**"
   ]
  },
  {
   "cell_type": "markdown",
   "metadata": {},
   "source": [
    "## 1-5 답"
   ]
  },
  {
   "cell_type": "code",
   "execution_count": 109,
   "metadata": {},
   "outputs": [
    {
     "name": "stdout",
     "output_type": "stream",
     "text": [
      "Overwriting src/1-5.js\n"
     ]
    }
   ],
   "source": [
    "%%writefile src/1-5.js\n",
    "var afterBal=eth.getBalance(eth.accounts[1]);\n",
    "var afterBal_eth=web3.fromWei(afterBal,\"ether\");\n",
    "var beforeBal_eth=268.33\n",
    "\n",
    "console.log('Balance of receiver account: ', web3.fromWei(afterBal,\"ether\"), 'ether');\n",
    "console.log('Receiver balance chage: ', (afterBal_eth-beforeBal_eth),'ether' );\n",
    "console.log('Block number: ', eth.blockNumber);"
   ]
  },
  {
   "cell_type": "code",
   "execution_count": 110,
   "metadata": {},
   "outputs": [
    {
     "name": "stdout",
     "output_type": "stream",
     "text": [
      "Balance of receiver account:  269.44 ether\n",
      "Receiver balance chage:  1.1100000000000136 ether\n",
      "Block number:  430\n",
      "true\n"
     ]
    }
   ],
   "source": [
    "!geth --exec \"loadScript('src/1-5.js')\" attach http://localhost:8446"
   ]
  },
  {
   "cell_type": "markdown",
   "metadata": {},
   "source": [
    "**거래발생 후 수신계좌의 잔고, 거래발생 전후 수신계좌의 잔고변화, 블록넘버 출력**"
   ]
  },
  {
   "cell_type": "code",
   "execution_count": null,
   "metadata": {},
   "outputs": [],
   "source": []
  }
 ],
 "metadata": {
  "kernelspec": {
   "display_name": "Python 3",
   "language": "python",
   "name": "python3"
  },
  "language_info": {
   "codemirror_mode": {
    "name": "ipython",
    "version": 3
   },
   "file_extension": ".py",
   "mimetype": "text/x-python",
   "name": "python",
   "nbconvert_exporter": "python",
   "pygments_lexer": "ipython3",
   "version": "3.7.3"
  }
 },
 "nbformat": 4,
 "nbformat_minor": 2
}
