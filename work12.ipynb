{
 "cells": [
  {
   "cell_type": "code",
   "execution_count": 26,
   "metadata": {},
   "outputs": [
    {
     "name": "stdout",
     "output_type": "stream",
     "text": [
      "Overwriting src/Multiply7Event.sol\n"
     ]
    }
   ],
   "source": [
    "%%writefile src/Multiply7Event.sol\n",
    "pragma solidity 0.5.1;\n",
    "contract Multiply7Event {\n",
    "    event Print(address from, uint256 timestamp, uint256 result);\n",
    "    function multiply(uint256 input) public {\n",
    "        emit Print(msg.sender, now, input*7);\n",
    "    }\n",
    "}"
   ]
  },
  {
   "cell_type": "code",
   "execution_count": 27,
   "metadata": {},
   "outputs": [
    {
     "name": "stdout",
     "output_type": "stream",
     "text": [
      "\n",
      "======= src/Multiply7Event.sol:Multiply7Event =======\n",
      "Gas estimation:\n",
      "construction:\n",
      "   105 + 56400 = 56505\n",
      "external:\n",
      "   multiply(uint256):\t1854\n",
      "Binary: \n",
      "608060405234801561001057600080fd5b5061011a806100206000396000f3fe6080604052600436106039576000357c010000000000000000000000000000000000000000000000000000000090048063c6888fa114603e575b600080fd5b348015604957600080fd5b50607360048036036020811015605e57600080fd5b81019080803590602001909291905050506075565b005b7f91da4985ab616136202f4e81fd2d8cac1eb12591132d609cece407f7c6fb9205334260078402604051808473ffffffffffffffffffffffffffffffffffffffff1673ffffffffffffffffffffffffffffffffffffffff168152602001838152602001828152602001935050505060405180910390a15056fea165627a7a723058208cc1a6558c44fd2cbada4e6b779166fd0393819034a6a06ba8b8e335960740930029\n",
      "Contract JSON ABI \n",
      "[{\"constant\":false,\"inputs\":[{\"name\":\"input\",\"type\":\"uint256\"}],\"name\":\"multiply\",\"outputs\":[],\"payable\":false,\"stateMutability\":\"nonpayable\",\"type\":\"function\"},{\"anonymous\":false,\"inputs\":[{\"indexed\":false,\"name\":\"from\",\"type\":\"address\"},{\"indexed\":false,\"name\":\"timestamp\",\"type\":\"uint256\"},{\"indexed\":false,\"name\":\"result\",\"type\":\"uint256\"}],\"name\":\"Print\",\"type\":\"event\"}]\n"
     ]
    }
   ],
   "source": [
    "!solc --abi --bin --gas src/Multiply7Event.sol"
   ]
  },
  {
   "cell_type": "code",
   "execution_count": 28,
   "metadata": {},
   "outputs": [
    {
     "name": "stdout",
     "output_type": "stream",
     "text": [
      "Overwriting src/Multiply7EventDeploy.js\n"
     ]
    }
   ],
   "source": [
    "%%writefile src/Multiply7EventDeploy.js\n",
    "var Web3 = require('web3');\n",
    "var web3 = new Web3(new Web3.providers.HttpProvider(\"http://localhost:8345\"));\n",
    "//var _abiArray = JSON.parse(_abiStr);\n",
    "var _abiArray=[{\"constant\":false,\"inputs\":[{\"name\":\"input\",\"type\":\"uint256\"}],\"name\":\"multiply\",\"outputs\":[],\"payable\":false,\"stateMutability\":\"nonpayable\",\"type\":\"function\"},{\"anonymous\":false,\"inputs\":[{\"indexed\":false,\"name\":\"from\",\"type\":\"address\"},{\"indexed\":false,\"name\":\"timestamp\",\"type\":\"uint256\"},{\"indexed\":false,\"name\":\"result\",\"type\":\"uint256\"}],\"name\":\"Print\",\"type\":\"event\"}];\n",
    "var _bin=\"0x\"+\"608060405234801561001057600080fd5b5061011a806100206000396000f3fe6080604052600436106039576000357c010000000000000000000000000000000000000000000000000000000090048063c6888fa114603e575b600080fd5b348015604957600080fd5b50607360048036036020811015605e57600080fd5b81019080803590602001909291905050506075565b005b7f91da4985ab616136202f4e81fd2d8cac1eb12591132d609cece407f7c6fb9205334260078402604051808473ffffffffffffffffffffffffffffffffffffffff1673ffffffffffffffffffffffffffffffffffffffff168152602001838152602001828152602001935050505060405180910390a15056fea165627a7a723058208cc1a6558c44fd2cbada4e6b779166fd0393819034a6a06ba8b8e335960740930029\";\n",
    "\n",
    "async function deploy() {\n",
    "    const accounts = await web3.eth.getAccounts();\n",
    "    console.log(\"Deploying the contract from \" + accounts[0]);\n",
    "    var deployed = await new web3.eth.Contract(_abiArray)\n",
    "        .deploy({data: _bin})\n",
    "        .send({from: accounts[0], gas: 364124, gasPrice: '1000000000'}, function(err, transactionHash) {\n",
    "                if(!err) console.log(\"hash: \" + transactionHash); \n",
    "        })\n",
    "        //.then(function(newContractInstance) {\n",
    "        //    console.log(newContractInstance.options.address)\n",
    "        //});\n",
    "    console.log(\"---> The contract deployed to: \" + deployed.options.address)\n",
    "}\n",
    "deploy()"
   ]
  },
  {
   "cell_type": "code",
   "execution_count": 29,
   "metadata": {},
   "outputs": [
    {
     "name": "stdout",
     "output_type": "stream",
     "text": [
      "Deploying the contract from 0x38B1F38F5D033a37e3710B382ED0140285ED1E60\n",
      "hash: 0x1f9f37556bae9cfe58195ca4ae54a6be129f471e21047ab490247324a5649019\n",
      "---> The contract deployed to: 0x46a16dc3d1Ae8EF6C51147010578530B809fc849\n"
     ]
    }
   ],
   "source": [
    "!node src/Multiply7EventDeploy.js"
   ]
  },
  {
   "cell_type": "code",
   "execution_count": 30,
   "metadata": {},
   "outputs": [
    {
     "name": "stdout",
     "output_type": "stream",
     "text": [
      "Overwriting src/Multiply7EventWsUse.js\n"
     ]
    }
   ],
   "source": [
    "%%writefile src/Multiply7EventWsUse.js\n",
    "var Web3=require('web3');\n",
    "var web3 = new Web3(new Web3.providers.WebsocketProvider(\"http://localhost:8345\"));\n",
    "var _abiArray=[{\"constant\":false,\"inputs\":[{\"name\":\"input\",\"type\":\"uint256\"}],\"name\":\"multiply\",\"outputs\":[],\"payable\":false,\"stateMutability\":\"nonpayable\",\"type\":\"function\"},{\"anonymous\":false,\"inputs\":[{\"indexed\":false,\"name\":\"from\",\"type\":\"address\"},{\"indexed\":false,\"name\":\"timestamp\",\"type\":\"uint256\"},{\"indexed\":false,\"name\":\"result\",\"type\":\"uint256\"}],\"name\":\"Print\",\"type\":\"event\"}];\n",
    "var _test = new web3.eth.Contract(_abiArray, '0x46a16dc3d1Ae8EF6C51147010578530B809fc849');\n",
    "var event = _test.events.Print({fromBlock: 0}, function (error, result) {\n",
    "    if (!error) {\n",
    "        console.log(\"Event fired: \" + JSON.stringify(result) + \"\\n---> \" + JSON.stringify(result.returnValues));\n",
    "    }\n",
    "});\n",
    "\n",
    "async function doIt() {\n",
    "    const accounts = await web3.eth.getAccounts();\n",
    "    console.log(\"Account: \" + accounts[0]);\n",
    "    const value8 = await _test.methods.multiply(8)\n",
    "        .send({from: accounts[0], gas: 364124, gasPrice: '1000000000'})\n",
    "    console.log(\"---> multiply(8) called \"+ JSON.stringify(value8.events.Print.returnValues));\n",
    "    \n",
    "    const value16 = await _test.methods.multiply(16)\n",
    "        .send({from: accounts[0], gas: 364124, gasPrice: '1000000000'})\n",
    "    console.log(\"---> multiply(16) called \"+ JSON.stringify(value16.events.Print.returnValues));\n",
    "}\n",
    "doIt()"
   ]
  },
  {
   "cell_type": "code",
   "execution_count": 31,
   "metadata": {},
   "outputs": [
    {
     "name": "stdout",
     "output_type": "stream",
     "text": [
      "Account: 0x38B1F38F5D033a37e3710B382ED0140285ED1E60\n",
      "Event fired: {\"logIndex\":0,\"transactionIndex\":0,\"transactionHash\":\"0x22197584d93cc7fba05514862d72edec13b0128188af2942e4d36a4d017bdd34\",\"blockHash\":\"0xc48dea1b033d7fe939609ed591a2d4528b992742150b8fddabd74f427227bf35\",\"blockNumber\":2,\"address\":\"0x46a16dc3d1Ae8EF6C51147010578530B809fc849\",\"type\":\"mined\",\"id\":\"log_7106416d\",\"returnValues\":{\"0\":\"0x38B1F38F5D033a37e3710B382ED0140285ED1E60\",\"1\":\"1591427801\",\"2\":\"56\",\"from\":\"0x38B1F38F5D033a37e3710B382ED0140285ED1E60\",\"timestamp\":\"1591427801\",\"result\":\"56\"},\"event\":\"Print\",\"signature\":\"0x91da4985ab616136202f4e81fd2d8cac1eb12591132d609cece407f7c6fb9205\",\"raw\":{\"data\":\"0x00000000000000000000000038b1f38f5d033a37e3710b382ed0140285ed1e60000000000000000000000000000000000000000000000000000000005edb42d90000000000000000000000000000000000000000000000000000000000000038\",\"topics\":[\"0x91da4985ab616136202f4e81fd2d8cac1eb12591132d609cece407f7c6fb9205\"]}}\n",
      "---> {\"0\":\"0x38B1F38F5D033a37e3710B382ED0140285ED1E60\",\"1\":\"1591427801\",\"2\":\"56\",\"from\":\"0x38B1F38F5D033a37e3710B382ED0140285ED1E60\",\"timestamp\":\"1591427801\",\"result\":\"56\"}\n",
      "---> multiply(8) called {\"0\":\"0x38B1F38F5D033a37e3710B382ED0140285ED1E60\",\"1\":\"1591427801\",\"2\":\"56\",\"from\":\"0x38B1F38F5D033a37e3710B382ED0140285ED1E60\",\"timestamp\":\"1591427801\",\"result\":\"56\"}\n",
      "Event fired: {\"logIndex\":0,\"transactionIndex\":0,\"transactionHash\":\"0xe2445749e77da54aaa966d26b88524608c4eb0a258bf91740d3b0b9acab3420e\",\"blockHash\":\"0x1f6751dd0bc59a02137e5ffa69ad999140d1028bb05128932d178d70727e61e0\",\"blockNumber\":3,\"address\":\"0x46a16dc3d1Ae8EF6C51147010578530B809fc849\",\"type\":\"mined\",\"id\":\"log_bcd77854\",\"returnValues\":{\"0\":\"0x38B1F38F5D033a37e3710B382ED0140285ED1E60\",\"1\":\"1591427801\",\"2\":\"112\",\"from\":\"0x38B1F38F5D033a37e3710B382ED0140285ED1E60\",\"timestamp\":\"1591427801\",\"result\":\"112\"},\"event\":\"Print\",\"signature\":\"0x91da4985ab616136202f4e81fd2d8cac1eb12591132d609cece407f7c6fb9205\",\"raw\":{\"data\":\"0x00000000000000000000000038b1f38f5d033a37e3710b382ed0140285ed1e60000000000000000000000000000000000000000000000000000000005edb42d90000000000000000000000000000000000000000000000000000000000000070\",\"topics\":[\"0x91da4985ab616136202f4e81fd2d8cac1eb12591132d609cece407f7c6fb9205\"]}}\n",
      "---> {\"0\":\"0x38B1F38F5D033a37e3710B382ED0140285ED1E60\",\"1\":\"1591427801\",\"2\":\"112\",\"from\":\"0x38B1F38F5D033a37e3710B382ED0140285ED1E60\",\"timestamp\":\"1591427801\",\"result\":\"112\"}\n",
      "---> multiply(16) called {\"0\":\"0x38B1F38F5D033a37e3710B382ED0140285ED1E60\",\"1\":\"1591427801\",\"2\":\"112\",\"from\":\"0x38B1F38F5D033a37e3710B382ED0140285ED1E60\",\"timestamp\":\"1591427801\",\"result\":\"112\"}\n"
     ]
    }
   ],
   "source": [
    "!node src/Multiply7EventWsUse.js"
   ]
  },
  {
   "cell_type": "code",
   "execution_count": null,
   "metadata": {},
   "outputs": [],
   "source": []
  }
 ],
 "metadata": {
  "kernelspec": {
   "display_name": "Python 3",
   "language": "python",
   "name": "python3"
  },
  "language_info": {
   "codemirror_mode": {
    "name": "ipython",
    "version": 3
   },
   "file_extension": ".py",
   "mimetype": "text/x-python",
   "name": "python",
   "nbconvert_exporter": "python",
   "pygments_lexer": "ipython3",
   "version": "3.7.3"
  }
 },
 "nbformat": 4,
 "nbformat_minor": 2
}
