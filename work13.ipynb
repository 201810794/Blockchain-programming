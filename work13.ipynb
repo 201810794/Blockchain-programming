{
 "cells": [
  {
   "cell_type": "code",
   "execution_count": 34,
   "metadata": {},
   "outputs": [
    {
     "name": "stdout",
     "output_type": "stream",
     "text": [
      "Overwriting src/OrderEvent.sol\n"
     ]
    }
   ],
   "source": [
    "%%writefile src/OrderEvent.sol\n",
    "pragma solidity 0.5.1;\n",
    "contract OrderEvent {\n",
    "    address private owner;\n",
    "    constructor() public {\n",
    "        owner = msg.sender;\n",
    "    }\n",
    "    event OrderLog(address indexed from, bytes2 itemId, uint quantity, string dest);\n",
    "    function order(bytes2 _itemId, uint _quantity, string memory _dest) public payable {\n",
    "        emit OrderLog(msg.sender, _itemId, _quantity, _dest);\n",
    "    }\n",
    "     modifier isOwner() {\n",
    "        if(msg.sender != owner) {\n",
    "            revert();\n",
    "        }\n",
    "        _;\n",
    "    }\n",
    "    function getBalance() view public isOwner returns(uint) {\n",
    "        return address(this).balance;\n",
    "    }\n",
    "}"
   ]
  },
  {
   "cell_type": "code",
   "execution_count": 35,
   "metadata": {},
   "outputs": [
    {
     "name": "stdout",
     "output_type": "stream",
     "text": [
      "\n",
      "======= src/OrderEvent.sol:OrderEvent =======\n",
      "Gas estimation:\n",
      "construction:\n",
      "   20468 + 158000 = 178468\n",
      "external:\n",
      "   getBalance():\t877\n",
      "   order(bytes2,uint256,string):\tinfinite\n",
      "Binary: \n",
      "608060405234801561001057600080fd5b50336000806101000a81548173ffffffffffffffffffffffffffffffffffffffff021916908373ffffffffffffffffffffffffffffffffffffffff160217905550610316806100606000396000f3fe608060405260043610610046576000357c01000000000000000000000000000000000000000000000000000000009004806312065fe01461004b5780637a59a92914610076575b600080fd5b34801561005757600080fd5b50610060610166565b6040518082815260200191505060405180910390f35b6101646004803603606081101561008c57600080fd5b8101908080357dffffffffffffffffffffffffffffffffffffffffffffffffffffffffffff1916906020019092919080359060200190929190803590602001906401000000008111156100de57600080fd5b8201836020820111156100f057600080fd5b8035906020019184600183028401116401000000008311171561011257600080fd5b91908080601f016020809104026020016040519081016040528093929190818152602001838380828437600081840152601f19601f8201169050808301925050505050505091929192905050506101e0565b005b60008060009054906101000a900473ffffffffffffffffffffffffffffffffffffffff1673ffffffffffffffffffffffffffffffffffffffff163373ffffffffffffffffffffffffffffffffffffffff161415156101c357600080fd5b3073ffffffffffffffffffffffffffffffffffffffff1631905090565b3373ffffffffffffffffffffffffffffffffffffffff167f0cee52e22e6b387c4183ee502522fa33f030e118cc6065c7a842e8b7c00e4a6a84848460405180847dffffffffffffffffffffffffffffffffffffffffffffffffffffffffffff19167dffffffffffffffffffffffffffffffffffffffffffffffffffffffffffff1916815260200183815260200180602001828103825283818151815260200191508051906020019080838360005b838110156102a957808201518184015260208101905061028e565b50505050905090810190601f1680156102d65780820380516001836020036101000a031916815260200191505b5094505050505060405180910390a250505056fea165627a7a72305820a32f94ff492f19a0fa633bef4435844a70236659de3f23df50381cf4885718070029\n",
      "Contract JSON ABI \n",
      "[{\"constant\":true,\"inputs\":[],\"name\":\"getBalance\",\"outputs\":[{\"name\":\"\",\"type\":\"uint256\"}],\"payable\":false,\"stateMutability\":\"view\",\"type\":\"function\"},{\"constant\":false,\"inputs\":[{\"name\":\"_itemId\",\"type\":\"bytes2\"},{\"name\":\"_quantity\",\"type\":\"uint256\"},{\"name\":\"_dest\",\"type\":\"string\"}],\"name\":\"order\",\"outputs\":[],\"payable\":true,\"stateMutability\":\"payable\",\"type\":\"function\"},{\"inputs\":[],\"payable\":false,\"stateMutability\":\"nonpayable\",\"type\":\"constructor\"},{\"anonymous\":false,\"inputs\":[{\"indexed\":true,\"name\":\"from\",\"type\":\"address\"},{\"indexed\":false,\"name\":\"itemId\",\"type\":\"bytes2\"},{\"indexed\":false,\"name\":\"quantity\",\"type\":\"uint256\"},{\"indexed\":false,\"name\":\"dest\",\"type\":\"string\"}],\"name\":\"OrderLog\",\"type\":\"event\"}]\n"
     ]
    }
   ],
   "source": [
    "!solc --abi --bin --gas src/OrderEvent.sol"
   ]
  },
  {
   "cell_type": "code",
   "execution_count": 36,
   "metadata": {},
   "outputs": [
    {
     "name": "stdout",
     "output_type": "stream",
     "text": [
      "Overwriting src/OrderEventDeploy.js\n"
     ]
    }
   ],
   "source": [
    "%%writefile src/OrderEventDeploy.js\n",
    "var Web3 = require('web3');\n",
    "var web3 = new Web3(new Web3.providers.HttpProvider(\"http://localhost:8345\"));\n",
    "var _abiArray  =[{\"constant\":true,\"inputs\":[],\"name\":\"getBalance\",\"outputs\":[{\"name\":\"\",\"type\":\"uint256\"}],\"payable\":false,\"stateMutability\":\"view\",\"type\":\"function\"},{\"constant\":false,\"inputs\":[{\"name\":\"_itemId\",\"type\":\"bytes2\"},{\"name\":\"_quantity\",\"type\":\"uint256\"},{\"name\":\"_dest\",\"type\":\"string\"}],\"name\":\"order\",\"outputs\":[],\"payable\":true,\"stateMutability\":\"payable\",\"type\":\"function\"},{\"inputs\":[],\"payable\":false,\"stateMutability\":\"nonpayable\",\"type\":\"constructor\"},{\"anonymous\":false,\"inputs\":[{\"indexed\":true,\"name\":\"from\",\"type\":\"address\"},{\"indexed\":false,\"name\":\"itemId\",\"type\":\"bytes2\"},{\"indexed\":false,\"name\":\"quantity\",\"type\":\"uint256\"},{\"indexed\":false,\"name\":\"dest\",\"type\":\"string\"}],\"name\":\"OrderLog\",\"type\":\"event\"}];\n",
    "var _bin = \"0x\" + \"608060405234801561001057600080fd5b50336000806101000a81548173ffffffffffffffffffffffffffffffffffffffff021916908373ffffffffffffffffffffffffffffffffffffffff160217905550610316806100606000396000f3fe608060405260043610610046576000357c01000000000000000000000000000000000000000000000000000000009004806312065fe01461004b5780637a59a92914610076575b600080fd5b34801561005757600080fd5b50610060610166565b6040518082815260200191505060405180910390f35b6101646004803603606081101561008c57600080fd5b8101908080357dffffffffffffffffffffffffffffffffffffffffffffffffffffffffffff1916906020019092919080359060200190929190803590602001906401000000008111156100de57600080fd5b8201836020820111156100f057600080fd5b8035906020019184600183028401116401000000008311171561011257600080fd5b91908080601f016020809104026020016040519081016040528093929190818152602001838380828437600081840152601f19601f8201169050808301925050505050505091929192905050506101e0565b005b60008060009054906101000a900473ffffffffffffffffffffffffffffffffffffffff1673ffffffffffffffffffffffffffffffffffffffff163373ffffffffffffffffffffffffffffffffffffffff161415156101c357600080fd5b3073ffffffffffffffffffffffffffffffffffffffff1631905090565b3373ffffffffffffffffffffffffffffffffffffffff167f0cee52e22e6b387c4183ee502522fa33f030e118cc6065c7a842e8b7c00e4a6a84848460405180847dffffffffffffffffffffffffffffffffffffffffffffffffffffffffffff19167dffffffffffffffffffffffffffffffffffffffffffffffffffffffffffff1916815260200183815260200180602001828103825283818151815260200191508051906020019080838360005b838110156102a957808201518184015260208101905061028e565b50505050905090810190601f1680156102d65780820380516001836020036101000a031916815260200191505b5094505050505060405180910390a250505056fea165627a7a72305820a32f94ff492f19a0fa633bef4435844a70236659de3f23df50381cf4885718070029\";\n",
    "\n",
    "async function deploy() {\n",
    "    const accounts = await web3.eth.getAccounts();\n",
    "    console.log(\"Deploying the contract from \" + accounts[0]);\n",
    "    var deployed = await new web3.eth.Contract(_abiArray)\n",
    "        .deploy({data: _bin})\n",
    "        .send({from: accounts[0], gas: 364124}, function(err, transactionHash) {\n",
    "                if(!err) console.log(\"hash: \" + transactionHash); \n",
    "        })\n",
    "    console.log(\"---> The contract deployed to: \" + deployed.options.address)\n",
    "}\n",
    "deploy()"
   ]
  },
  {
   "cell_type": "code",
   "execution_count": 37,
   "metadata": {},
   "outputs": [
    {
     "name": "stdout",
     "output_type": "stream",
     "text": [
      "Deploying the contract from 0x8cfB179861692D9D630a4E7EbCbdbCf609247d69\n",
      "hash: 0x5cc17df9e44affa8bfa932555c307e7970191c30666ebb9919ef0338576c4d75\n",
      "---> The contract deployed to: 0xf95A0E974359A5711dcb5B12B0F809bCe9a614F7\n"
     ]
    }
   ],
   "source": [
    "!node src/OrderEventDeploy.js"
   ]
  },
  {
   "cell_type": "code",
   "execution_count": 38,
   "metadata": {},
   "outputs": [
    {
     "name": "stdout",
     "output_type": "stream",
     "text": [
      "Overwriting src/OrderEventUse.js\n"
     ]
    }
   ],
   "source": [
    "%%writefile src/OrderEventUse.js\n",
    "var Web3=require('web3');\n",
    "var fs=require('fs');\n",
    "var web3 = new Web3(new Web3.providers.WebsocketProvider(\"http://localhost:8345\"));\n",
    "var _abiArray=[{\"constant\":true,\"inputs\":[],\"name\":\"getBalance\",\"outputs\":[{\"name\":\"\",\"type\":\"uint256\"}],\"payable\":false,\"stateMutability\":\"view\",\"type\":\"function\"},{\"constant\":false,\"inputs\":[{\"name\":\"_itemId\",\"type\":\"bytes2\"},{\"name\":\"_quantity\",\"type\":\"uint256\"},{\"name\":\"_dest\",\"type\":\"string\"}],\"name\":\"order\",\"outputs\":[],\"payable\":true,\"stateMutability\":\"payable\",\"type\":\"function\"},{\"inputs\":[],\"payable\":false,\"stateMutability\":\"nonpayable\",\"type\":\"constructor\"},{\"anonymous\":false,\"inputs\":[{\"indexed\":true,\"name\":\"from\",\"type\":\"address\"},{\"indexed\":false,\"name\":\"itemId\",\"type\":\"bytes2\"},{\"indexed\":false,\"name\":\"quantity\",\"type\":\"uint256\"},{\"indexed\":false,\"name\":\"dest\",\"type\":\"string\"}],\"name\":\"OrderLog\",\"type\":\"event\"}];\n",
    "\n",
    "async function doIt() {\n",
    "    var _order = new web3.eth.Contract(_abiArray, '0xf95A0E974359A5711dcb5B12B0F809bCe9a614F7');\n",
    "    var event = _order.events.OrderLog({fromBlock: 0}, function (error, result) {\n",
    "        if (!error) {\n",
    "            log = JSON.stringify(result.returnValues);\n",
    "            console.log(\"Event fired: \" + log);\n",
    "            fs.appendFile(\"src/OrderEvent.txt\", log, \"utf-8\", function(e) {\n",
    "                if(!e) {\n",
    "                    console.log(\">> Writing to file\");\n",
    "                }\n",
    "            });\n",
    "        }\n",
    "    });\n",
    "    const accounts = await web3.eth.getAccounts();\n",
    "    console.log(\"Account: \" + accounts[0]);\n",
    "    const balanceBefore = await web3.eth.getBalance(accounts[0]);\n",
    "    console.log(\"Balance before: \" + balanceBefore);\n",
    "    value = await _order.methods.order(\"0x1111\", 3, \"20 2-gil Hongji-dong Jongro-gu Seoul\").send({from: accounts[0], gas: 100000});\n",
    "    console.log(\"---> order called \" + JSON.stringify(value.events.OrderLog.returnValues));\n",
    "    value = await _order.methods.order(\"0x1111\", 5, \"20 2-gil Hongji-dong Jongro-gu Seoul\").send({from: accounts[0], gas: 100000});\n",
    "    console.log(\"---> order called \" + JSON.stringify(value.events.OrderLog.returnValues));\n",
    "    value = await _order.methods.order(\"0x1111\", 20, \"20 2-gil Hongji-dong Jongro-gu Seoul\").send({from: accounts[0], gas: 100000});\n",
    "    console.log(\"---> order called \" + JSON.stringify(value.events.OrderLog.returnValues));\n",
    "    const balanceAfter = await web3.eth.getBalance(accounts[0]);\n",
    "    console.log(\"Balance after: \" + balanceAfter);\n",
    "    console.log(\"Balance diff: \" + (balanceBefore - balanceAfter));\n",
    "}\n",
    "\n",
    "doIt()"
   ]
  },
  {
   "cell_type": "code",
   "execution_count": 39,
   "metadata": {},
   "outputs": [
    {
     "name": "stdout",
     "output_type": "stream",
     "text": [
      "Account: 0x8cfB179861692D9D630a4E7EbCbdbCf609247d69\n",
      "Balance before: 99995091200000000000\n",
      "Event fired: {\"0\":\"0x8cfB179861692D9D630a4E7EbCbdbCf609247d69\",\"1\":\"0x1111\",\"2\":\"3\",\"3\":\"20 2-gil Hongji-dong Jongro-gu Seoul\",\"from\":\"0x8cfB179861692D9D630a4E7EbCbdbCf609247d69\",\"itemId\":\"0x1111\",\"quantity\":\"3\",\"dest\":\"20 2-gil Hongji-dong Jongro-gu Seoul\"}\n",
      ">> Writing to file\n",
      "---> order called {\"0\":\"0x8cfB179861692D9D630a4E7EbCbdbCf609247d69\",\"1\":\"0x1111\",\"2\":\"3\",\"3\":\"20 2-gil Hongji-dong Jongro-gu Seoul\",\"from\":\"0x8cfB179861692D9D630a4E7EbCbdbCf609247d69\",\"itemId\":\"0x1111\",\"quantity\":\"3\",\"dest\":\"20 2-gil Hongji-dong Jongro-gu Seoul\"}\n",
      "Event fired: {\"0\":\"0x8cfB179861692D9D630a4E7EbCbdbCf609247d69\",\"1\":\"0x1111\",\"2\":\"5\",\"3\":\"20 2-gil Hongji-dong Jongro-gu Seoul\",\"from\":\"0x8cfB179861692D9D630a4E7EbCbdbCf609247d69\",\"itemId\":\"0x1111\",\"quantity\":\"5\",\"dest\":\"20 2-gil Hongji-dong Jongro-gu Seoul\"}\n",
      ">> Writing to file\n",
      "---> order called {\"0\":\"0x8cfB179861692D9D630a4E7EbCbdbCf609247d69\",\"1\":\"0x1111\",\"2\":\"5\",\"3\":\"20 2-gil Hongji-dong Jongro-gu Seoul\",\"from\":\"0x8cfB179861692D9D630a4E7EbCbdbCf609247d69\",\"itemId\":\"0x1111\",\"quantity\":\"5\",\"dest\":\"20 2-gil Hongji-dong Jongro-gu Seoul\"}\n",
      "Event fired: {\"0\":\"0x8cfB179861692D9D630a4E7EbCbdbCf609247d69\",\"1\":\"0x1111\",\"2\":\"20\",\"3\":\"20 2-gil Hongji-dong Jongro-gu Seoul\",\"from\":\"0x8cfB179861692D9D630a4E7EbCbdbCf609247d69\",\"itemId\":\"0x1111\",\"quantity\":\"20\",\"dest\":\"20 2-gil Hongji-dong Jongro-gu Seoul\"}\n",
      ">> Writing to file\n",
      "---> order called {\"0\":\"0x8cfB179861692D9D630a4E7EbCbdbCf609247d69\",\"1\":\"0x1111\",\"2\":\"20\",\"3\":\"20 2-gil Hongji-dong Jongro-gu Seoul\",\"from\":\"0x8cfB179861692D9D630a4E7EbCbdbCf609247d69\",\"itemId\":\"0x1111\",\"quantity\":\"20\",\"dest\":\"20 2-gil Hongji-dong Jongro-gu Seoul\"}\n",
      "Balance after: 99993522200000000000\n",
      "Balance diff: 1568999999995904\n"
     ]
    }
   ],
   "source": [
    "!node src/OrderEventUse.js"
   ]
  },
  {
   "cell_type": "code",
   "execution_count": 40,
   "metadata": {},
   "outputs": [
    {
     "name": "stdout",
     "output_type": "stream",
     "text": [
      "{\"0\":\"0x8cfB179861692D9D630a4E7EbCbdbCf609247d69\",\"1\":\"0x1111\",\"2\":\"3\",\"3\":\"20 2-gil Hongji-dong Jongro-gu Seoul\",\"from\":\"0x8cfB179861692D9D630a4E7EbCbdbCf609247d69\",\"itemId\":\"0x1111\",\"quantity\":\"3\",\"dest\":\"20 2-gil Hongji-dong Jongro-gu Seoul\"}{\"0\":\"0x8cfB179861692D9D630a4E7EbCbdbCf609247d69\",\"1\":\"0x1111\",\"2\":\"5\",\"3\":\"20 2-gil Hongji-dong Jongro-gu Seoul\",\"from\":\"0x8cfB179861692D9D630a4E7EbCbdbCf609247d69\",\"itemId\":\"0x1111\",\"quantity\":\"5\",\"dest\":\"20 2-gil Hongji-dong Jongro-gu Seoul\"}{\"0\":\"0x8cfB179861692D9D630a4E7EbCbdbCf609247d69\",\"1\":\"0x1111\",\"2\":\"20\",\"3\":\"20 2-gil Hongji-dong Jongro-gu Seoul\",\"from\":\"0x8cfB179861692D9D630a4E7EbCbdbCf609247d69\",\"itemId\":\"0x1111\",\"quantity\":\"20\",\"dest\":\"20 2-gil Hongji-dong Jongro-gu Seoul\"}\n"
     ]
    }
   ],
   "source": [
    "!type src\\OrderEvent.txt"
   ]
  },
  {
   "cell_type": "code",
   "execution_count": null,
   "metadata": {},
   "outputs": [],
   "source": []
  }
 ],
 "metadata": {
  "kernelspec": {
   "display_name": "Python 3",
   "language": "python",
   "name": "python3"
  },
  "language_info": {
   "codemirror_mode": {
    "name": "ipython",
    "version": 3
   },
   "file_extension": ".py",
   "mimetype": "text/x-python",
   "name": "python",
   "nbconvert_exporter": "python",
   "pygments_lexer": "ipython3",
   "version": "3.7.3"
  }
 },
 "nbformat": 4,
 "nbformat_minor": 2
}
