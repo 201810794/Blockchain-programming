{
 "cells": [
  {
   "cell_type": "markdown",
   "metadata": {},
   "source": [
    "# 휴먼지능정보공학과 201810794 이은후"
   ]
  },
  {
   "cell_type": "code",
   "execution_count": 24,
   "metadata": {},
   "outputs": [
    {
     "name": "stdout",
     "output_type": "stream",
     "text": [
      "Overwriting src/CustomerOrder.sol\n"
     ]
    }
   ],
   "source": [
    "%%writefile src/CustomerOrder.sol\n",
    "pragma solidity 0.5.1;\n",
    "contract Customer {\n",
    "    struct CustomerInfo {\n",
    "        uint id;\n",
    "        string name;\n",
    "        string phoneNum;\n",
    "        string destination;\n",
    "        bool isCustomer; //false\n",
    "    }\n",
    "    mapping (address => CustomerInfo) customerMap;\n",
    "    mapping (address => uint) mileage;\n",
    "    function addCustomer(address addr, uint _id, string memory _name, string memory _phoneNum, string memory _dest) public {\n",
    "        if (customerMap[addr].isCustomer == false) {\n",
    "            CustomerInfo memory c = CustomerInfo(_id, _name, _phoneNum, _dest, true);\n",
    "            customerMap[addr] = c;\n",
    "        }\n",
    "    }\n",
    "    function getCustomerDestination(address addr) view public returns (string memory) {\n",
    "        CustomerInfo memory c = customerMap[addr];\n",
    "        return c.destination;\n",
    "    }\n",
    "    function setMileage(address addr, uint amount) public {\n",
    "        mileage[addr] = amount / 100;\n",
    "    }\n",
    "}\n",
    "\n",
    "contract Order {\n",
    "    Customer customer;\n",
    "    constructor() public { \n",
    "        customer = new Customer();\n",
    "    }\n",
    "    struct OrderInfo {\n",
    "        uint oid;\n",
    "        string oname;\n",
    "        uint256 timestamp;\n",
    "    }\n",
    "    mapping (address => OrderInfo) orderMap;\n",
    "    mapping (uint => address) addressById;\n",
    "    mapping (address => string) orderStatus;\n",
    "    mapping (address => uint) orderQuantity;\n",
    "    mapping (address => uint) orderAmount;\n",
    "    mapping (address => bool) isOrdered;\n",
    "    uint accAmount;\n",
    "    uint accOrderNum;\n",
    "    function ordering(address payable addr, uint _oid, string memory _oname, uint _quantity, uint _amount) public payable {\n",
    "        OrderInfo memory o = OrderInfo(_oid, _oname, now);\n",
    "        orderMap[addr] = o;\n",
    "        addressById[_oid] = addr;\n",
    "        orderStatus[addr] = \"Ordered\";\n",
    "        orderQuantity[addr] =_quantity;\n",
    "        orderAmount[addr] = _amount;\n",
    "        isOrdered[addr] = true;\n",
    "        accAmount += _amount;\n",
    "        accOrderNum ++;\n",
    "        customer.setMileage(addr, _amount);\n",
    "    }\n",
    "    function addCustomer(address addr, uint _id, string memory _name, string memory _phoneNum, string memory _dest) public {\n",
    "        customer.addCustomer(addr, _id, _name, _phoneNum, _dest);\n",
    "    }\n",
    "    function getCustomerDestination(address _addr) public view returns(string memory) {\n",
    "        return customer.getCustomerDestination(_addr);\n",
    "    }\n",
    "    function getOrderByAddress(address _addr) view public returns (uint, string memory, string memory, string memory) {\n",
    "        OrderInfo memory o = orderMap[_addr];\n",
    "        return (o.oid, o.oname, orderStatus[_addr], customer.getCustomerDestination(_addr));\n",
    "    }\n",
    "    function getOrderById(uint _id) view public returns (uint, string memory, string memory, string memory) {\n",
    "        OrderInfo memory order = orderMap[addressById[_id]];\n",
    "        return (order.oid, order.oname, orderStatus[addressById[_id]], customer.getCustomerDestination(addressById[_id]));\n",
    "    }\n",
    "    function getInfo() public view returns(uint, uint, uint) {\n",
    "        return (accOrderNum, accAmount, address(this).balance);\n",
    "    }\n",
    "    function refundById(uint _id) public payable{\n",
    "        OrderInfo memory order = orderMap[addressById[_id]];\n",
    "        require(_id == order.oid);\n",
    "        accAmount -= orderAmount[addressById[_id]];\n",
    "        orderStatus[addressById[_id]] = \"Refunded\";\n",
    "        orderAmount[addressById[_id]] = 0;\n",
    "        accOrderNum --;\n",
    "    }\n",
    "    function refundResult(uint _id) public view returns (uint, string memory, uint, string memory, string memory) {\n",
    "        OrderInfo memory o = orderMap[addressById[_id]];\n",
    "        return (o.oid, o.oname, orderAmount[addressById[_id]], orderStatus[addressById[_id]], customer.getCustomerDestination(addressById[_id]));\n",
    "    }\n",
    "}"
   ]
  },
  {
   "cell_type": "code",
   "execution_count": 25,
   "metadata": {},
   "outputs": [],
   "source": [
    "!solc src/CustomerOrder.sol --combined-json abi,bin > src/CustomerOrder.json"
   ]
  },
  {
   "cell_type": "code",
   "execution_count": 26,
   "metadata": {},
   "outputs": [
    {
     "name": "stdout",
     "output_type": "stream",
     "text": [
      "Overwriting src/CustomerOrderDeploy.js\n"
     ]
    }
   ],
   "source": [
    "%%writefile src/CustomerOrderDeploy.js\n",
    "var Web3=require('web3');\n",
    "var web3=new Web3(new Web3.providers.HttpProvider(\"http://localhost:8345\"));\n",
    "var fs=require('fs');\n",
    "var _str = fs.readFileSync(\"src/CustomerOrder.json\");\n",
    "var _json=JSON.parse(_str)\n",
    "//var _abiArray=JSON.parse(_json.contracts.sHello2.abi);\n",
    "var _abiArray=JSON.parse(_json.contracts[\"src/CustomerOrder.sol:Order\"].abi);\n",
    "//var _bin=_json.contracts.sHello2.bin;\n",
    "var _bin=\"0x\"+_json.contracts[\"src/CustomerOrder.sol:Order\"].bin;\n",
    "\n",
    "//unlock the account with a password provided\n",
    "//web3.personal.unlockAccount(web3.eth.accounts[0],'password');\n",
    "async function deploy() {\n",
    "    const accounts = await web3.eth.getAccounts();\n",
    "    console.log(\"Deploying the contract from \" + accounts[0]);\n",
    "    var deployed = await new web3.eth.Contract(_abiArray)\n",
    "        .deploy({data: _bin})\n",
    "        .send({from: accounts[0], gas: 3000000})\n",
    "        .on('transactionHash', function(hash){\n",
    "            console.log(\">>> transactionHash\"+hash);\n",
    "        })\n",
    "        .on('receipt', function(receipt){\n",
    "            console.log(\">>> RECEPIT hash: \" + receipt.transactionHash + \"\\n>>> address:\" + receipt.contractAddress);\n",
    "        })\n",
    "        .on('error', function(error, receipt) {\n",
    "            console.log(\">>> ERROR \"+error);\n",
    "        });\n",
    "        //.then(function(newContractInstance){\n",
    "        //    console.log(newContractInstance.options.address)\n",
    "        //});\n",
    "    console.log(\"---> The contract deployed to: \" + deployed.options.address)\n",
    "}\n",
    "deploy()"
   ]
  },
  {
   "cell_type": "code",
   "execution_count": 27,
   "metadata": {},
   "outputs": [
    {
     "name": "stdout",
     "output_type": "stream",
     "text": [
      "Deploying the contract from 0x41a78c873d7086587E391d0B352C6248F7EFfA7c\n",
      ">>> transactionHash0xbdc31818fcc5729f59e2f78b3423ebd1602eaad956ec567f2c61dea6bba2ee5a\n",
      ">>> RECEPIT hash: 0xbdc31818fcc5729f59e2f78b3423ebd1602eaad956ec567f2c61dea6bba2ee5a\n",
      ">>> address:0xED83FADa17a7E6820eD678aae13Ef8296Ceae41E\n",
      "---> The contract deployed to: 0xED83FADa17a7E6820eD678aae13Ef8296Ceae41E\n"
     ]
    }
   ],
   "source": [
    "!node src/CustomerOrderDeploy.js"
   ]
  },
  {
   "cell_type": "code",
   "execution_count": 28,
   "metadata": {},
   "outputs": [
    {
     "name": "stdout",
     "output_type": "stream",
     "text": [
      "Overwriting src/CustomerOrderUse_1.js\n"
     ]
    }
   ],
   "source": [
    "%%writefile src/CustomerOrderUse_1.js\n",
    "var Web3=require('web3');\n",
    "var web3=new Web3(new Web3.providers.HttpProvider(\"http://localhost:8345\"));\n",
    "var fs=require('fs');\n",
    "var _str = fs.readFileSync(\"src/CustomerOrder.json\");\n",
    "var _json=JSON.parse(_str)\n",
    "var _abiArray=JSON.parse(_json.contracts[\"src/CustomerOrder.sol:Order\"].abi);\n",
    "\n",
    "var order = new web3.eth.Contract(_abiArray, \"0xED83FADa17a7E6820eD678aae13Ef8296Ceae41E\");\n",
    "\n",
    "async function doIt() {\n",
    "    const accounts = await web3.eth.getAccounts();\n",
    "    console.log(\"Account1: \" + accounts[0]);\n",
    "    const balanceAcc1 = await web3.eth.getBalance(accounts[0]);\n",
    "    console.log(\"Account1 balance: \" + balanceAcc1);\n",
    "    console.log(\"\\n\");\n",
    "    console.log(\"Account2: \" + accounts[1]);\n",
    "    const balanceAcc2 = await web3.eth.getBalance(accounts[1]);\n",
    "    console.log(\"Account2 balance: \" + balanceAcc2);\n",
    "    console.log(\"\\n\");\n",
    "    console.log(\"Account3: \" + accounts[2]);\n",
    "    const balanceAcc3 = await web3.eth.getBalance(accounts[2]);\n",
    "    console.log(\"Account3 balance: \" + balanceAcc3);\n",
    "    console.log(\"\\n\");\n",
    "    //const blockNum = await web3.eth.blockNumber\n",
    "    console.log(\"Block number: \" + web3.eth.getBlockNumber().then(console.log));\n",
    "}\n",
    "\n",
    "doIt()"
   ]
  },
  {
   "cell_type": "markdown",
   "metadata": {},
   "source": [
    "## 답: 1-1 주소 및 잔고 출력"
   ]
  },
  {
   "cell_type": "code",
   "execution_count": 29,
   "metadata": {},
   "outputs": [
    {
     "name": "stdout",
     "output_type": "stream",
     "text": [
      "Account1: 0x41a78c873d7086587E391d0B352C6248F7EFfA7c\n",
      "Account1 balance: 99898643059999998885\n",
      "\n",
      "\n",
      "Account2: 0x7DC55B191230385b7ec5dc30C9eBBC12ACAb8503\n",
      "Account2 balance: 99995551939999998884\n",
      "\n",
      "\n",
      "Account3: 0x8fDf446A8f49E3D9fefBe06A3AF33c6b88E39C0B\n",
      "Account3 balance: 99995551939999998883\n",
      "\n",
      "\n",
      "Block number: [object Promise]\n",
      "11\n"
     ]
    }
   ],
   "source": [
    "!node src/CustomerOrderUse_1.js"
   ]
  },
  {
   "cell_type": "markdown",
   "metadata": {},
   "source": [
    "## 답: 1-2 ```Order``` 컨트랙 생성에 필요한 gas 출력\n",
    "string 사용으로 인해 Order컨트랙의 gas가 infinite로 출력되고 있음."
   ]
  },
  {
   "cell_type": "code",
   "execution_count": 30,
   "metadata": {},
   "outputs": [
    {
     "name": "stdout",
     "output_type": "stream",
     "text": [
      "\n",
      "======= src/CustomerOrder.sol:Customer =======\n",
      "Gas estimation:\n",
      "construction:\n",
      "   480 + 447200 = 447680\n",
      "external:\n",
      "   addCustomer(address,uint256,string,string,string):\tinfinite\n",
      "   getCustomerDestination(address):\tinfinite\n",
      "   setMileage(address,uint256):\t20403\n",
      "\n",
      "======= src/CustomerOrder.sol:Order =======\n",
      "Gas estimation:\n",
      "construction:\n",
      "   infinite + 1685800 = infinite\n",
      "external:\n",
      "   addCustomer(address,uint256,string,string,string):\tinfinite\n",
      "   getCustomerDestination(address):\tinfinite\n",
      "   getInfo():\t1157\n",
      "   getOrderByAddress(address):\tinfinite\n",
      "   getOrderById(uint256):\tinfinite\n",
      "   ordering(address,uint256,string,uint256,uint256):\tinfinite\n",
      "   refundById(uint256):\tinfinite\n",
      "   refundResult(uint256):\tinfinite\n"
     ]
    }
   ],
   "source": [
    "!solc --gas src/CustomerOrder.sol"
   ]
  },
  {
   "cell_type": "code",
   "execution_count": 31,
   "metadata": {},
   "outputs": [
    {
     "name": "stdout",
     "output_type": "stream",
     "text": [
      "Overwriting src/CustomerOrderUse_3.js\n"
     ]
    }
   ],
   "source": [
    "%%writefile src/CustomerOrderUse_3.js\n",
    "var Web3=require('web3');\n",
    "var web3=new Web3(new Web3.providers.HttpProvider(\"http://localhost:8345\"));\n",
    "var fs=require('fs');\n",
    "var _str = fs.readFileSync(\"src/CustomerOrder.json\");\n",
    "var _json=JSON.parse(_str)\n",
    "var _abiArray=JSON.parse(_json.contracts[\"src/CustomerOrder.sol:Order\"].abi);\n",
    "\n",
    "var order = new web3.eth.Contract(_abiArray, \"0xED83FADa17a7E6820eD678aae13Ef8296Ceae41E\");\n",
    "\n",
    "async function doIt() {\n",
    "    const accounts = await web3.eth.getAccounts();\n",
    "    await order.methods.addCustomer(accounts[0], 111, \"kim\", \"010-2017-1111\", \"111 hongji-dong jongro-gu seoul\").send({from:accounts[3],gas:5000000});\n",
    "    await order.methods.addCustomer(accounts[1], 112, \"lee\", \"010-2017-1112\", \"112 hongji-dong jongro-gu seoul\").send({from:accounts[3],gas:5000000});\n",
    "    await order.methods.addCustomer(accounts[2], 113, \"lim\", \"010-2017-1113\", \"113 hongji-dong jongro-gu seoul\").send({from:accounts[3],gas:5000000});\n",
    "}\n",
    "\n",
    "doIt()"
   ]
  },
  {
   "cell_type": "markdown",
   "metadata": {},
   "source": [
    "## 답: 1-3 고객정보 3건 입력"
   ]
  },
  {
   "cell_type": "code",
   "execution_count": 32,
   "metadata": {},
   "outputs": [],
   "source": [
    "!node src/CustomerOrderUse_3.js"
   ]
  },
  {
   "cell_type": "code",
   "execution_count": 33,
   "metadata": {},
   "outputs": [
    {
     "name": "stdout",
     "output_type": "stream",
     "text": [
      "Overwriting src/CustomerOrderUse_4.js\n"
     ]
    }
   ],
   "source": [
    "%%writefile src/CustomerOrderUse_4.js\n",
    "var Web3=require('web3');\n",
    "var web3=new Web3(new Web3.providers.HttpProvider(\"http://localhost:8345\"));\n",
    "var fs=require('fs');\n",
    "var _str = fs.readFileSync(\"src/CustomerOrder.json\");\n",
    "var _json=JSON.parse(_str)\n",
    "var _abiArray=JSON.parse(_json.contracts[\"src/CustomerOrder.sol:Order\"].abi);\n",
    "\n",
    "var order = new web3.eth.Contract(_abiArray, \"0xED83FADa17a7E6820eD678aae13Ef8296Ceae41E\");\n",
    "\n",
    "async function doIt() {\n",
    "    const accounts = await web3.eth.getAccounts();\n",
    "    order.methods.getCustomerDestination(accounts[0]).call().then(function(value){console.log(value);});\n",
    "    order.methods.getCustomerDestination(accounts[1]).call().then(function(value){console.log(value);});\n",
    "    order.methods.getCustomerDestination(accounts[2]).call().then(function(value){console.log(value);});\n",
    "}\n",
    "\n",
    "doIt()"
   ]
  },
  {
   "cell_type": "markdown",
   "metadata": {},
   "source": [
    "## 답: 1-4 모든 고객의 배송지 출력"
   ]
  },
  {
   "cell_type": "code",
   "execution_count": 34,
   "metadata": {},
   "outputs": [
    {
     "name": "stdout",
     "output_type": "stream",
     "text": [
      "111 hongji-dong jongro-gu seoul\n",
      "112 hongji-dong jongro-gu seoul\n",
      "113 hongji-dong jongro-gu seoul\n"
     ]
    }
   ],
   "source": [
    "!node src/CustomerOrderUse_4.js"
   ]
  },
  {
   "cell_type": "code",
   "execution_count": 35,
   "metadata": {},
   "outputs": [
    {
     "name": "stdout",
     "output_type": "stream",
     "text": [
      "Overwriting src/CustomerOrderUse_56.js\n"
     ]
    }
   ],
   "source": [
    "%%writefile src/CustomerOrderUse_56.js\n",
    "var Web3=require('web3');\n",
    "var web3=new Web3(new Web3.providers.HttpProvider(\"http://localhost:8345\"));\n",
    "var fs=require('fs');\n",
    "var _str = fs.readFileSync(\"src/CustomerOrder.json\");\n",
    "var _json=JSON.parse(_str)\n",
    "var _abiArray=JSON.parse(_json.contracts[\"src/CustomerOrder.sol:Order\"].abi);\n",
    "\n",
    "var order = new web3.eth.Contract(_abiArray, \"0xED83FADa17a7E6820eD678aae13Ef8296Ceae41E\");\n",
    "\n",
    "async function doIt() {\n",
    "    const accounts = await web3.eth.getAccounts();\n",
    "    await order.methods.ordering(accounts[0], 555, \"T-Shirt\", 2, 1115).send({from:accounts[0],value:1115,gas:5000000});\n",
    "    await order.methods.ordering(accounts[1], 556, \"T-Shirt\", 3, 1116).send({from:accounts[1],value:1116,gas:5000000});\n",
    "    await order.methods.ordering(accounts[2], 557, \"T-Shirt\", 4, 1117).send({from:accounts[2],value:1117,gas:5000000});\n",
    "    order.methods.getInfo().call().then(function(value){console.log(value);});\n",
    "}\n",
    "\n",
    "doIt()"
   ]
  },
  {
   "cell_type": "markdown",
   "metadata": {},
   "source": [
    "## 답: 1-5 주문 & 1-6 주문개수, 주문금액 합계 및 잔고 출력\n",
    "문제 1-5에 해당하는 주문을 한 후, 1-6에 해당하는 주문개수, 주문금액 합계, 컨트랙잔고 출력"
   ]
  },
  {
   "cell_type": "code",
   "execution_count": 36,
   "metadata": {},
   "outputs": [
    {
     "name": "stdout",
     "output_type": "stream",
     "text": [
      "Result { '0': '3', '1': '3348', '2': '3348' }\n"
     ]
    }
   ],
   "source": [
    "!node src/CustomerOrderUse_56.js"
   ]
  },
  {
   "cell_type": "code",
   "execution_count": 37,
   "metadata": {},
   "outputs": [
    {
     "name": "stdout",
     "output_type": "stream",
     "text": [
      "Overwriting src/CustomerOrderUse_7.js\n"
     ]
    }
   ],
   "source": [
    "%%writefile src/CustomerOrderUse_7.js\n",
    "var Web3=require('web3');\n",
    "var web3=new Web3(new Web3.providers.HttpProvider(\"http://localhost:8345\"));\n",
    "var fs=require('fs');\n",
    "var _str = fs.readFileSync(\"src/CustomerOrder.json\");\n",
    "var _json=JSON.parse(_str)\n",
    "var _abiArray=JSON.parse(_json.contracts[\"src/CustomerOrder.sol:Order\"].abi);\n",
    "\n",
    "var order = new web3.eth.Contract(_abiArray, \"0xED83FADa17a7E6820eD678aae13Ef8296Ceae41E\");\n",
    "\n",
    "async function doIt() {\n",
    "    const accounts = await web3.eth.getAccounts();\n",
    "    order.methods.getOrderByAddress(accounts[0]).call().then(function(value){console.log(value);});\n",
    "    order.methods.getOrderByAddress(accounts[1]).call().then(function(value){console.log(value);});\n",
    "    order.methods.getOrderByAddress(accounts[2]).call().then(function(value){console.log(value);});\n",
    "}\n",
    "\n",
    "doIt()"
   ]
  },
  {
   "cell_type": "markdown",
   "metadata": {},
   "source": [
    "## 답: 1-7 모든 고객의 주문 내역 출력"
   ]
  },
  {
   "cell_type": "code",
   "execution_count": 38,
   "metadata": {},
   "outputs": [
    {
     "name": "stdout",
     "output_type": "stream",
     "text": [
      "Result {\n",
      "  '0': '555',\n",
      "  '1': 'T-Shirt',\n",
      "  '2': 'Ordered',\n",
      "  '3': '111 hongji-dong jongro-gu seoul'\n",
      "}\n",
      "Result {\n",
      "  '0': '556',\n",
      "  '1': 'T-Shirt',\n",
      "  '2': 'Ordered',\n",
      "  '3': '112 hongji-dong jongro-gu seoul'\n",
      "}\n",
      "Result {\n",
      "  '0': '557',\n",
      "  '1': 'T-Shirt',\n",
      "  '2': 'Ordered',\n",
      "  '3': '113 hongji-dong jongro-gu seoul'\n",
      "}\n"
     ]
    }
   ],
   "source": [
    "!node src/CustomerOrderUse_7.js"
   ]
  },
  {
   "cell_type": "code",
   "execution_count": 39,
   "metadata": {},
   "outputs": [
    {
     "name": "stdout",
     "output_type": "stream",
     "text": [
      "Overwriting src/CustomerOrderUse_8.js\n"
     ]
    }
   ],
   "source": [
    "%%writefile src/CustomerOrderUse_8.js\n",
    "var Web3=require('web3');\n",
    "var web3=new Web3(new Web3.providers.HttpProvider(\"http://localhost:8345\"));\n",
    "var fs=require('fs');\n",
    "var _str = fs.readFileSync(\"src/CustomerOrder.json\");\n",
    "var _json=JSON.parse(_str)\n",
    "var _abiArray=JSON.parse(_json.contracts[\"src/CustomerOrder.sol:Order\"].abi);\n",
    "\n",
    "var order = new web3.eth.Contract(_abiArray, \"0xED83FADa17a7E6820eD678aae13Ef8296Ceae41E\");\n",
    "\n",
    "async function doIt() {\n",
    "    const accounts = await web3.eth.getAccounts();\n",
    "    order.methods.getOrderById(556).call().then(function(value){console.log(value);});\n",
    "}\n",
    "\n",
    "doIt()"
   ]
  },
  {
   "cell_type": "markdown",
   "metadata": {},
   "source": [
    "## 답: 1-8 주문ID 556으로 주문내역 출력"
   ]
  },
  {
   "cell_type": "code",
   "execution_count": 40,
   "metadata": {},
   "outputs": [
    {
     "name": "stdout",
     "output_type": "stream",
     "text": [
      "Result {\n",
      "  '0': '556',\n",
      "  '1': 'T-Shirt',\n",
      "  '2': 'Ordered',\n",
      "  '3': '112 hongji-dong jongro-gu seoul'\n",
      "}\n"
     ]
    }
   ],
   "source": [
    "!node src/CustomerOrderUse_8.js"
   ]
  },
  {
   "cell_type": "code",
   "execution_count": 41,
   "metadata": {},
   "outputs": [
    {
     "name": "stdout",
     "output_type": "stream",
     "text": [
      "Overwriting src/CustomerOrderUse_9.js\n"
     ]
    }
   ],
   "source": [
    "%%writefile src/CustomerOrderUse_9.js\n",
    "var Web3=require('web3');\n",
    "var web3=new Web3(new Web3.providers.HttpProvider(\"http://localhost:8345\"));\n",
    "var fs=require('fs');\n",
    "var _str = fs.readFileSync(\"src/CustomerOrder.json\");\n",
    "var _json=JSON.parse(_str)\n",
    "var _abiArray=JSON.parse(_json.contracts[\"src/CustomerOrder.sol:Order\"].abi);\n",
    "\n",
    "var order = new web3.eth.Contract(_abiArray, \"0xED83FADa17a7E6820eD678aae13Ef8296Ceae41E\");\n",
    "\n",
    "async function doIt() {\n",
    "    const accounts = await web3.eth.getAccounts();\n",
    "    await order.methods.refundById(556).send({from:accounts[3],to:accounts[1],value:1116,gas:5000000});\n",
    "    const balanceAcc2 = await web3.eth.getBalance(accounts[1]);\n",
    "    console.log(\"Account2 balance: \" + balanceAcc2);\n",
    "}\n",
    "\n",
    "doIt()"
   ]
  },
  {
   "cell_type": "markdown",
   "metadata": {},
   "source": [
    "## 답: 1-9 주문ID 556으로 환불처리\n",
    "환불처리를 한 후, 주소2의 잔고변동 출력"
   ]
  },
  {
   "cell_type": "code",
   "execution_count": 42,
   "metadata": {},
   "outputs": [
    {
     "name": "stdout",
     "output_type": "stream",
     "text": [
      "Account2 balance: 99991103879999997768\n"
     ]
    }
   ],
   "source": [
    "!node src/CustomerOrderUse_9.js"
   ]
  },
  {
   "cell_type": "code",
   "execution_count": 43,
   "metadata": {},
   "outputs": [
    {
     "name": "stdout",
     "output_type": "stream",
     "text": [
      "Writing src/CustomerOrderUse_10.js\n"
     ]
    }
   ],
   "source": [
    "%%writefile src/CustomerOrderUse_10.js\n",
    "var Web3=require('web3');\n",
    "var web3=new Web3(new Web3.providers.HttpProvider(\"http://localhost:8345\"));\n",
    "var fs=require('fs');\n",
    "var _str = fs.readFileSync(\"src/CustomerOrder.json\");\n",
    "var _json=JSON.parse(_str)\n",
    "var _abiArray=JSON.parse(_json.contracts[\"src/CustomerOrder.sol:Order\"].abi);\n",
    "\n",
    "var order = new web3.eth.Contract(_abiArray, \"0xED83FADa17a7E6820eD678aae13Ef8296Ceae41E\");\n",
    "\n",
    "async function doIt() {\n",
    "    const accounts = await web3.eth.getAccounts();\n",
    "    order.methods.refundResult(556).call().then(function(value){console.log(value);});\n",
    "    order.methods.getInfo().call().then(function(value){console.log(value);});\n",
    "}\n",
    "\n",
    "doIt()"
   ]
  },
  {
   "cell_type": "markdown",
   "metadata": {},
   "source": [
    "## 답: 1-10 환불처리가 반영된 출력"
   ]
  },
  {
   "cell_type": "code",
   "execution_count": 44,
   "metadata": {},
   "outputs": [
    {
     "name": "stdout",
     "output_type": "stream",
     "text": [
      "Result {\n",
      "  '0': '556',\n",
      "  '1': 'T-Shirt',\n",
      "  '2': '0',\n",
      "  '3': 'Refunded',\n",
      "  '4': '112 hongji-dong jongro-gu seoul'\n",
      "}\n",
      "Result { '0': '2', '1': '2232', '2': '4464' }\n"
     ]
    }
   ],
   "source": [
    "!node src/CustomerOrderUse_10.js"
   ]
  },
  {
   "cell_type": "code",
   "execution_count": null,
   "metadata": {},
   "outputs": [],
   "source": []
  }
 ],
 "metadata": {
  "kernelspec": {
   "display_name": "Python 3",
   "language": "python",
   "name": "python3"
  },
  "language_info": {
   "codemirror_mode": {
    "name": "ipython",
    "version": 3
   },
   "file_extension": ".py",
   "mimetype": "text/x-python",
   "name": "python",
   "nbconvert_exporter": "python",
   "pygments_lexer": "ipython3",
   "version": "3.7.3"
  }
 },
 "nbformat": 4,
 "nbformat_minor": 2
}
