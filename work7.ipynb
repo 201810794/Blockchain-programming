{
 "cells": [
  {
   "cell_type": "markdown",
   "metadata": {},
   "source": [
    "# 7주 연습문제"
   ]
  },
  {
   "cell_type": "markdown",
   "metadata": {},
   "source": [
    "## Hello 컨트랙을 수정해서 sayHello() 함수를 호출하면 \"Hello, Snowman\"이 출력되도록 하세요."
   ]
  },
  {
   "cell_type": "code",
   "execution_count": 1,
   "metadata": {},
   "outputs": [
    {
     "name": "stdout",
     "output_type": "stream",
     "text": [
      "Overwriting src/Hello.sol\n"
     ]
    }
   ],
   "source": [
    "%%writefile src/Hello.sol\n",
    "pragma solidity 0.4.25;\n",
    "\n",
    "contract Hello {\n",
    "    function sayHello() pure public returns(string memory) {\n",
    "        return \"Hello, Snowman\";\n",
    "    }\n",
    "}"
   ]
  },
  {
   "cell_type": "code",
   "execution_count": 2,
   "metadata": {
    "scrolled": false
   },
   "outputs": [
    {
     "name": "stdout",
     "output_type": "stream",
     "text": [
      "\n",
      "======= src/Hello.sol:Hello =======\n",
      "Gas estimation:\n",
      "construction:\n",
      "   111 + 63800 = 63911\n",
      "external:\n",
      "   sayHello():\tinfinite\n",
      "Binary: \n",
      "608060405234801561001057600080fd5b5061013f806100206000396000f300608060405260043610610041576000357c0100000000000000000000000000000000000000000000000000000000900463ffffffff168063ef5fb05b14610046575b600080fd5b34801561005257600080fd5b5061005b6100d6565b6040518080602001828103825283818151815260200191508051906020019080838360005b8381101561009b578082015181840152602081019050610080565b50505050905090810190601f1680156100c85780820380516001836020036101000a031916815260200191505b509250505060405180910390f35b60606040805190810160405280600e81526020017f48656c6c6f2c20536e6f776d616e0000000000000000000000000000000000008152509050905600a165627a7a723058207c2a2ce746315dfeff9282cd464499f6b5d9aaf387743d305f875864575025550029\n",
      "Contract JSON ABI \n",
      "[{\"constant\":true,\"inputs\":[],\"name\":\"sayHello\",\"outputs\":[{\"name\":\"\",\"type\":\"string\"}],\"payable\":false,\"stateMutability\":\"pure\",\"type\":\"function\"}]\n"
     ]
    }
   ],
   "source": [
    "!solc --abi --bin --gas src/Hello.sol"
   ]
  },
  {
   "cell_type": "markdown",
   "metadata": {},
   "source": [
    "## 1.ganache배포"
   ]
  },
  {
   "cell_type": "code",
   "execution_count": 32,
   "metadata": {},
   "outputs": [
    {
     "name": "stdout",
     "output_type": "stream",
     "text": [
      "Overwriting src/getMyAddr.js\n"
     ]
    }
   ],
   "source": [
    "%%writefile src/getMyAddr.js\n",
    "var Web3=require('web3');\n",
    "var web3 = new Web3(new Web3.providers.HttpProvider(\"http://127.0.0.1:8345\"))\n",
    "var myAddr0;\n",
    "web3.eth.getAccounts(console.log);"
   ]
  },
  {
   "cell_type": "code",
   "execution_count": 33,
   "metadata": {
    "scrolled": true
   },
   "outputs": [
    {
     "name": "stdout",
     "output_type": "stream",
     "text": [
      "null [\n",
      "  '0x9595D1074A0E52e4c7f225c60978014eB1fEfcCA',\n",
      "  '0x1D79669409bf5D3F90287B8dC8A9bCe4f9661B4a',\n",
      "  '0xeD641E95BBfbc256305F17E866beb82D54aA69B8',\n",
      "  '0x64bf0e2909A2B86C49FF553c0F8AD2e326F8B812',\n",
      "  '0x7658144F800b5325a390E03CFBE452FbDC48F011',\n",
      "  '0xf295F47fc49d63a53adB864dAe128B8744cec204',\n",
      "  '0x0fDa7fd9D73BB2BB108DC05Dee186Df43991CDb1',\n",
      "  '0x00bf965cC75000d10a5ea2946dFB2468dB51b4fd',\n",
      "  '0x06366ca5CA6F136cD55a20d2de3F1b8efF1c08A9',\n",
      "  '0xE215fA0632bD25320785aD4F5d863093a88a86E7'\n",
      "]\n"
     ]
    }
   ],
   "source": [
    "!node src/getMyAddr.js"
   ]
  },
  {
   "cell_type": "code",
   "execution_count": 36,
   "metadata": {},
   "outputs": [
    {
     "name": "stdout",
     "output_type": "stream",
     "text": [
      "Overwriting src/HelloDeployTest.js\n"
     ]
    }
   ],
   "source": [
    "%%writefile src/HelloDeployTest.js\n",
    "var Web3=require('web3');\n",
    "var web3=new Web3(new Web3.providers.HttpProvider(\"http://127.0.0.1:8345\"));\n",
    "var helloContract = new web3.eth.contract([{\"constant\":true,\"inputs\":[],\"name\":\"sayHello\",\"outputs\":[{\"name\":\"\",\"type\":\"string\"}],\"payable\":false,\"stateMutability\":\"pure\",\"type\":\"function\"}]);\n",
    "var hello = helloContract.new(\n",
    "   {\n",
    "     from: \"0x9595D1074A0E52e4c7f225c60978014eB1fEfcCA\", \n",
    "     data: '0x608060405234801561001057600080fd5b507f48656c6c6f0000000000000000000000000000000000000000000000000000006000816000191690555060ef8061004a6000396000f3006080604052600436106049576000357c0100000000000000000000000000000000000000000000000000000000900463ffffffff16806350513b4f14604e578063cfae321714607c575b600080fd5b348015605957600080fd5b50607a600480360381019080803560001916906020019092919050505060ac565b005b348015608757600080fd5b50608e60ba565b60405180826000191660001916815260200191505060405180910390f35b806000816000191690555050565b600080549050905600a165627a7a723058209b6ab2e9e197f41875a981e07f91a37ad1850b97f21f66b6d1a8af30e5841b600029', \n",
    "     gas: '4700000'\n",
    "   }, function (e, contract){\n",
    "    console.log(e, contract);\n",
    "    if (typeof contract.address !== 'undefined') {\n",
    "         console.log('Contract mined! address: ' + contract.address + ' transactionHash: ' + contract.transactionHash);\n",
    "    }\n",
    " })"
   ]
  },
  {
   "cell_type": "code",
   "execution_count": 37,
   "metadata": {
    "scrolled": true
   },
   "outputs": [
    {
     "name": "stderr",
     "output_type": "stream",
     "text": [
      "C:\\Users\\Eunhoo\\Code\\API\\src\\HelloDeployTest.js:3\n",
      "var helloContract = new web3.eth.contract([{\"constant\":true,\"inputs\":[],\"name\":\"sayHello\",\"outputs\":[{\"name\":\"\",\"type\":\"string\"}],\"payable\":false,\"stateMutability\":\"pure\",\"type\":\"function\"}]);\n",
      "                    ^\n",
      "\n",
      "TypeError: web3.eth.contract is not a constructor\n",
      "    at Object.<anonymous> (C:\\Users\\Eunhoo\\Code\\API\\src\\HelloDeployTest.js:3:21)\n",
      "    at Module._compile (internal/modules/cjs/loader.js:1156:30)\n",
      "    at Object.Module._extensions..js (internal/modules/cjs/loader.js:1176:10)\n",
      "    at Module.load (internal/modules/cjs/loader.js:1000:32)\n",
      "    at Function.Module._load (internal/modules/cjs/loader.js:899:14)\n",
      "    at Function.executeUserEntryPoint [as runMain] (internal/modules/run_main.js:74:12)\n",
      "    at internal/main/run_main_module.js:18:47\n"
     ]
    }
   ],
   "source": [
    "!node src/HelloDeployTest.js"
   ]
  },
  {
   "cell_type": "code",
   "execution_count": 42,
   "metadata": {},
   "outputs": [
    {
     "name": "stdout",
     "output_type": "stream",
     "text": [
      "Overwriting src/HelloDeploy.js\n"
     ]
    }
   ],
   "source": [
    "%%writefile src/HelloDeploy.js\n",
    "var Web3=require('web3');\n",
    "var web3=new Web3(new Web3.providers.HttpProvider(\"http://127.0.0.1:8345\"));\n",
    "var shelloContract = new web3.eth.Contract([{\"constant\":true,\"inputs\":[],\"name\":\"sayHello\",\"outputs\":[{\"name\":\"\",\"type\":\"string\"}],\"payable\":false,\"stateMutability\":\"pure\",\"type\":\"function\"}]);\n",
    "shelloContract\n",
    "    .deploy({\n",
    "        data:'0x608060405234801561001057600080fd5b507f48656c6c6f0000000000000000000000000000000000000000000000000000006000816000191690555060ef8061004a6000396000f3006080604052600436106049576000357c0100000000000000000000000000000000000000000000000000000000900463ffffffff16806350513b4f14604e578063cfae321714607c575b600080fd5b348015605957600080fd5b50607a600480360381019080803560001916906020019092919050505060ac565b005b348015608757600080fd5b50608e60ba565b60405180826000191660001916815260200191505060405180910390f35b806000816000191690555050565b600080549050905600a165627a7a723058209b6ab2e9e197f41875a981e07f91a37ad1850b97f21f66b6d1a8af30e5841b600029'\n",
    "    })\n",
    "    .send({\n",
    "        from: \"0x9595D1074A0E52e4c7f225c60978014eB1fEfcCA\",\n",
    "        gas: '4700000'\n",
    "    }, function (e, transactionHash){\n",
    "    console.log(e, transactionHash);\n",
    "    })\n",
    "    .then(function(newContractInstance){\n",
    "        console.log(newContractInstance.options.address)\n",
    "    });"
   ]
  },
  {
   "cell_type": "code",
   "execution_count": 43,
   "metadata": {},
   "outputs": [
    {
     "name": "stdout",
     "output_type": "stream",
     "text": [
      "null 0xc48ca0df4d9b9305e3e41ab9ad24dc7a5fe11b844f905ff1e5d8c94ecdea2166\n",
      "0xD2c12F66Ff9C11689fcbc09867E868C7b7775230\n"
     ]
    }
   ],
   "source": [
    "!node src/HelloDeploy.js"
   ]
  },
  {
   "cell_type": "code",
   "execution_count": 48,
   "metadata": {},
   "outputs": [
    {
     "name": "stdout",
     "output_type": "stream",
     "text": [
      "Overwriting src/HelloUse.js\n"
     ]
    }
   ],
   "source": [
    "%%writefile src/HelloUse.js\n",
    "var Web3=require('web3');\n",
    "var web3 = new Web3(new Web3.providers.HttpProvider(\"http://127.0.0.1:8345\"));\n",
    "var shelloContract = new web3.eth.Contract([{\"constant\":true,\"inputs\":[],\"name\":\"sayHello\",\"outputs\":[{\"name\":\"\",\"type\":\"string\"}],\"payable\":false,\"stateMutability\":\"pure\",\"type\":\"function\"}],\n",
    "                                      \"0xD2c12F66Ff9C11689fcbc09867E868C7b7775230\");\n",
    "shelloContract.methods.sayHello().call().then(function(str) {console.log(str);});"
   ]
  },
  {
   "cell_type": "code",
   "execution_count": 49,
   "metadata": {},
   "outputs": [
    {
     "name": "stderr",
     "output_type": "stream",
     "text": [
      "(node:28464) UnhandledPromiseRejectionWarning: Error: Returned error: VM Exception while processing transaction: revert\n",
      "    at Object.ErrorResponse (C:\\Users\\Eunhoo\\Code\\API\\node_modules\\web3-core-helpers\\src\\errors.js:29:16)\n",
      "    at C:\\Users\\Eunhoo\\Code\\API\\node_modules\\web3-core-requestmanager\\src\\index.js:140:36\n",
      "    at XMLHttpRequest.request.onreadystatechange (C:\\Users\\Eunhoo\\Code\\API\\node_modules\\web3-providers-http\\src\\index.js:110:13)\n",
      "    at XMLHttpRequestEventTarget.dispatchEvent (C:\\Users\\Eunhoo\\Code\\API\\node_modules\\xhr2-cookies\\dist\\xml-http-request-event-target.js:34:22)\n",
      "    at XMLHttpRequest._setReadyState (C:\\Users\\Eunhoo\\Code\\API\\node_modules\\xhr2-cookies\\dist\\xml-http-request.js:208:14)\n",
      "    at XMLHttpRequest._onHttpResponseEnd (C:\\Users\\Eunhoo\\Code\\API\\node_modules\\xhr2-cookies\\dist\\xml-http-request.js:318:14)\n",
      "    at IncomingMessage.<anonymous> (C:\\Users\\Eunhoo\\Code\\API\\node_modules\\xhr2-cookies\\dist\\xml-http-request.js:289:61)\n",
      "    at IncomingMessage.emit (events.js:322:22)\n",
      "    at endReadableNT (_stream_readable.js:1187:12)\n",
      "    at processTicksAndRejections (internal/process/task_queues.js:84:21)\n",
      "(node:28464) UnhandledPromiseRejectionWarning: Unhandled promise rejection. This error originated either by throwing inside of an async function without a catch block, or by rejecting a promise which was not handled with .catch(). To terminate the node process on unhandled promise rejection, use the CLI flag `--unhandled-rejections=strict` (see https://nodejs.org/api/cli.html#cli_unhandled_rejections_mode). (rejection id: 1)\n",
      "(node:28464) [DEP0018] DeprecationWarning: Unhandled promise rejections are deprecated. In the future, promise rejections that are not handled will terminate the Node.js process with a non-zero exit code.\n"
     ]
    }
   ],
   "source": [
    "!node src/HelloUse.js"
   ]
  },
  {
   "cell_type": "markdown",
   "metadata": {},
   "source": [
    "## 2.geth배포"
   ]
  },
  {
   "cell_type": "code",
   "execution_count": 43,
   "metadata": {},
   "outputs": [
    {
     "name": "stdout",
     "output_type": "stream",
     "text": [
      "Overwriting src/HelloDeploy2.js\n"
     ]
    }
   ],
   "source": [
    "%%writefile src/HelloDeploy2.js\n",
    "var Web3=require('web3');\n",
    "var web3=new Web3(new Web3.providers.HttpProvider(\"http://localhost:8445\"));\n",
    "var shelloContract = new web3.eth.Contract([{\"constant\":true,\"inputs\":[],\"name\":\"sayHello\",\"outputs\":[{\"name\":\"\",\"type\":\"string\"}],\"payable\":false,\"stateMutability\":\"pure\",\"type\":\"function\"}]);\n",
    "shelloContract\n",
    "    .deploy({\n",
    "        data:'0x608060405234801561001057600080fd5b5061013f806100206000396000f300608060405260043610610041576000357c0100000000000000000000000000000000000000000000000000000000900463ffffffff168063ef5fb05b14610046575b600080fd5b34801561005257600080fd5b5061005b6100d6565b6040518080602001828103825283818151815260200191508051906020019080838360005b8381101561009b578082015181840152602081019050610080565b50505050905090810190601f1680156100c85780820380516001836020036101000a031916815260200191505b509250505060405180910390f35b60606040805190810160405280600e81526020017f48656c6c6f2c20536e6f776d616e0000000000000000000000000000000000008152509050905600a165627a7a723058207fb3a5e84a098c02750ffae1def80873f4f5dd79f587179ab02e468e2bb893400029'\n",
    "    })\n",
    "    .send({\n",
    "        from: \"0x52cadd19f40f5f5f544f33fde2f8fc118862e4f9\",\n",
    "        gas: '4700000'\n",
    "    }, function (e, transactionHash){\n",
    "    console.log(e, transactionHash);\n",
    "    })\n",
    "    .then(function(newContractInstance){\n",
    "        console.log(newContractInstance.options.address)\n",
    "    });"
   ]
  },
  {
   "cell_type": "code",
   "execution_count": 44,
   "metadata": {},
   "outputs": [
    {
     "name": "stdout",
     "output_type": "stream",
     "text": [
      "null 0x3ce732f5894bda6ad086e36a1039391cfe2035d6aaf0b73be4ad47c06dca041b\n",
      "0x1E96d7449D718B0304111B9f07c05f650a221ceE\n"
     ]
    }
   ],
   "source": [
    "!node src/HelloDeploy2.js"
   ]
  },
  {
   "cell_type": "markdown",
   "metadata": {},
   "source": [
    "* geth attach창에서 miner.start();admin.sleepBlocks(1);miner.stop(); 명령어를 사용해 마이닝을 해주었음"
   ]
  },
  {
   "cell_type": "code",
   "execution_count": 45,
   "metadata": {
    "scrolled": true
   },
   "outputs": [
    {
     "name": "stdout",
     "output_type": "stream",
     "text": [
      "Writing src/HelloUse2.js\n"
     ]
    }
   ],
   "source": [
    "%%writefile src/HelloUse2.js\n",
    "var Web3=require('web3');\n",
    "var web3 = new Web3(new Web3.providers.HttpProvider(\"http://127.0.0.1:8445\"));\n",
    "var shelloContract = new web3.eth.Contract([{\"constant\":true,\"inputs\":[],\"name\":\"sayHello\",\"outputs\":[{\"name\":\"\",\"type\":\"string\"}],\"payable\":false,\"stateMutability\":\"pure\",\"type\":\"function\"}],\n",
    "                                      \"0x1E96d7449D718B0304111B9f07c05f650a221ceE\");\n",
    "shelloContract.methods.sayHello().call().then(function(str) {console.log(str);});"
   ]
  },
  {
   "cell_type": "code",
   "execution_count": 47,
   "metadata": {},
   "outputs": [
    {
     "name": "stdout",
     "output_type": "stream",
     "text": [
      "Hello, Snowman\n"
     ]
    }
   ],
   "source": [
    "!node src/HelloUse2.js"
   ]
  },
  {
   "cell_type": "code",
   "execution_count": null,
   "metadata": {},
   "outputs": [],
   "source": []
  }
 ],
 "metadata": {
  "kernelspec": {
   "display_name": "Python 3",
   "language": "python",
   "name": "python3"
  },
  "language_info": {
   "codemirror_mode": {
    "name": "ipython",
    "version": 3
   },
   "file_extension": ".py",
   "mimetype": "text/x-python",
   "name": "python",
   "nbconvert_exporter": "python",
   "pygments_lexer": "ipython3",
   "version": "3.7.3"
  }
 },
 "nbformat": 4,
 "nbformat_minor": 2
}
