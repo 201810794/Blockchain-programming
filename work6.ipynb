{
 "cells": [
  {
   "cell_type": "markdown",
   "metadata": {},
   "source": [
    "# 문제1"
   ]
  },
  {
   "cell_type": "code",
   "execution_count": 154,
   "metadata": {},
   "outputs": [
    {
     "name": "stdout",
     "output_type": "stream",
     "text": [
      "Overwriting src\\nodeCommands.js\n"
     ]
    }
   ],
   "source": [
    "%%writefile src\\nodeCommands.js\n",
    "var Web3=require('web3');\n",
    "var web3=new Web3('http://127.0.0.1:8345');\n",
    "web3.eth.getAccounts(console.log);\n",
    "web3.eth.getCoinbase(console.log);\n",
    "web3.eth.getBalance('0xbabe53b69762cbc3f1820c154677e3f731588cc3').then(console.log);"
   ]
  },
  {
   "cell_type": "markdown",
   "metadata": {},
   "source": [
    "#### 1) ganache-cli를 백그라운드로 띄우고, node에서 연결하여, coinbase주소를 출력하세요."
   ]
  },
  {
   "cell_type": "code",
   "execution_count": 155,
   "metadata": {
    "scrolled": false
   },
   "outputs": [
    {
     "name": "stdout",
     "output_type": "stream",
     "text": [
      "null [\n",
      "  '0xBABe53b69762Cbc3F1820C154677e3f731588cC3',\n",
      "  '0x810064cfF12A694b683AeA171Af682Bf34C8429D',\n",
      "  '0x379453E47d456765235AFCdE23d95d0D4122E15a',\n",
      "  '0x420F215e9fab319Df2cc73f13D460d10d92E3E46',\n",
      "  '0x9a72Eb793a4b1fA0dFfF9866891A0452A2Ff0Eb2',\n",
      "  '0xF9E83E2b5DfEB9D863df301938D40401c508351F',\n",
      "  '0x0324b9ae12038CF6a0Ae0d7916948E9B2dcC1278',\n",
      "  '0x7a02719F88cbd8f2079559CD51715125505C2a29',\n",
      "  '0x7845645be7c0bdF43040Dcbd8ecF8E2DF21C574c',\n",
      "  '0x77305590633B60bA1EFA7FB62CF7dEaD0de136DD'\n",
      "]\n",
      "null 0xbabe53b69762cbc3f1820c154677e3f731588cc3\n",
      "100000000000000000000\n"
     ]
    }
   ],
   "source": [
    "!node src\\nodeCommands.js"
   ]
  },
  {
   "cell_type": "markdown",
   "metadata": {},
   "source": [
    "#### 2) 위 문제를 geth를 띄우고 실행해보세요. geth에서의 coinbase를 출력하세요."
   ]
  },
  {
   "cell_type": "code",
   "execution_count": 152,
   "metadata": {},
   "outputs": [
    {
     "name": "stdout",
     "output_type": "stream",
     "text": [
      "Overwriting src\\gethCommands.js\n"
     ]
    }
   ],
   "source": [
    "%%writefile src\\gethCommands.js\n",
    "var Web3=require('web3');\n",
    "var web3=new Web3(new Web3.providers.HttpProvider('http://localhost:8445'));\n",
    "web3.eth.getAccounts(console.log);\n",
    "web3.eth.getCoinbase(console.log);\n",
    "web3.eth.getBalance('0x52cadd19f40f5f5f544f33fde2f8fc118862e4f9').then(console.log)"
   ]
  },
  {
   "cell_type": "code",
   "execution_count": 153,
   "metadata": {
    "scrolled": true
   },
   "outputs": [
    {
     "name": "stdout",
     "output_type": "stream",
     "text": [
      "null 0x52cadd19f40f5f5f544f33fde2f8fc118862e4f9\n",
      "null [\n",
      "  '0x52CadD19F40f5F5f544F33FDE2f8FC118862E4F9',\n",
      "  '0x81F6C6b03CbAB015Ea7142a0Ac6Bccf00Aac2407',\n",
      "  '0x4fC61eddC339a9Ee54bA8356770BDb2cf0b2DD68'\n",
      "]\n",
      "749999999999999900000\n"
     ]
    }
   ],
   "source": [
    "!node src\\gethCommands.js"
   ]
  },
  {
   "cell_type": "markdown",
   "metadata": {},
   "source": [
    "#### 3) ganache-cli의 coinbase에서 geth의 coinbase로 1 ether를 송금해 보세요. 송금 성공이면 잔고변화를 출력하고, 실패이면 그 이유를 간단히 설명하세요."
   ]
  },
  {
   "cell_type": "code",
   "execution_count": 156,
   "metadata": {},
   "outputs": [
    {
     "name": "stdout",
     "output_type": "stream",
     "text": [
      "Overwriting src\\transaction.js\n"
     ]
    }
   ],
   "source": [
    "%%writefile src\\transaction.js\n",
    "var Web3=require('web3');\n",
    "var web3=new Web3('http://127.0.0.1:8345');\n",
    "web3.eth.sendTransaction({from:\"0xbabe53b69762cbc3f1820c154677e3f731588cc3\",\n",
    "                          to:\"0x52cadd19f40f5f5f544f33fde2f8fc118862e4f9\",\n",
    "                         value:(web3.utils.toWei('1','ether'))});"
   ]
  },
  {
   "cell_type": "code",
   "execution_count": 157,
   "metadata": {},
   "outputs": [],
   "source": [
    "!node src\\transaction.js"
   ]
  },
  {
   "cell_type": "code",
   "execution_count": 158,
   "metadata": {},
   "outputs": [
    {
     "name": "stdout",
     "output_type": "stream",
     "text": [
      "Overwriting src\\transchk.js\n"
     ]
    }
   ],
   "source": [
    "%%writefile src\\transchk.js\n",
    "var Web3=require('web3');\n",
    "var web3=new Web3('http://127.0.0.1:8345');\n",
    "web3.eth.getBalance('0xbabe53b69762cbc3f1820c154677e3f731588cc3').then(console.log);"
   ]
  },
  {
   "cell_type": "code",
   "execution_count": 159,
   "metadata": {},
   "outputs": [
    {
     "name": "stdout",
     "output_type": "stream",
     "text": [
      "98999580000000000000\n"
     ]
    }
   ],
   "source": [
    "!node src\\transchk.js"
   ]
  },
  {
   "cell_type": "markdown",
   "metadata": {},
   "source": [
    "* 1ether와 gas-price로 예상되는 값이 함께 빠져나가 잔고가 감소한 모습을 볼 수 있다."
   ]
  },
  {
   "cell_type": "markdown",
   "metadata": {},
   "source": [
    "# 문제2"
   ]
  },
  {
   "cell_type": "code",
   "execution_count": 7,
   "metadata": {},
   "outputs": [
    {
     "name": "stdout",
     "output_type": "stream",
     "text": [
      "Overwriting src\\getbal.js\n"
     ]
    }
   ],
   "source": [
    "%%writefile src\\getbal.js\n",
    "var Web3=require('web3');\n",
    "var web3=new Web3('http://127.0.0.1:8345');\n",
    "//web3.eth.getBalance('0xbabe53b69762cbc3f1820c154677e3f731588cc3');\n",
    "web3.eth.getBalance('0xbabe53b69762cbc3f1820c154677e3f731588cc3').then(web3.utils.fromWei).then(console.log);\n",
    "//console.log(\"Balance in ether: \",bal);\n",
    "// 4월25일 20시기준 1eth->236000\n",
    "//console.log(\"Korean currency: \", bal*2346000);"
   ]
  },
  {
   "cell_type": "markdown",
   "metadata": {},
   "source": [
    "#### 1) ganache-cli에 연결하고, 현재 coinbase의 잔고를 ether로 출력하세요.\n",
    "#### 2) 현재 거래소 환전가격을 구해서 한화로 계산하여 얼마인지 출력하세요."
   ]
  },
  {
   "cell_type": "code",
   "execution_count": 8,
   "metadata": {},
   "outputs": [
    {
     "name": "stderr",
     "output_type": "stream",
     "text": [
      "(node:15432) UnhandledPromiseRejectionWarning: Error: Invalid JSON RPC response: \"\"\n",
      "    at Object.InvalidResponse (C:\\Users\\Eunhoo\\Code\\API\\node_modules\\web3-core-helpers\\src\\errors.js:42:16)\n",
      "    at XMLHttpRequest.request.onreadystatechange (C:\\Users\\Eunhoo\\Code\\API\\node_modules\\web3-providers-http\\src\\index.js:106:32)\n",
      "    at XMLHttpRequestEventTarget.dispatchEvent (C:\\Users\\Eunhoo\\Code\\API\\node_modules\\xhr2-cookies\\dist\\xml-http-request-event-target.js:34:22)\n",
      "    at XMLHttpRequest._setReadyState (C:\\Users\\Eunhoo\\Code\\API\\node_modules\\xhr2-cookies\\dist\\xml-http-request.js:208:14)\n",
      "    at XMLHttpRequest._onHttpRequestError (C:\\Users\\Eunhoo\\Code\\API\\node_modules\\xhr2-cookies\\dist\\xml-http-request.js:349:14)\n",
      "    at ClientRequest.<anonymous> (C:\\Users\\Eunhoo\\Code\\API\\node_modules\\xhr2-cookies\\dist\\xml-http-request.js:252:61)\n",
      "    at ClientRequest.emit (events.js:310:20)\n",
      "    at Socket.socketErrorListener (_http_client.js:426:9)\n",
      "    at Socket.emit (events.js:310:20)\n",
      "    at emitErrorNT (internal/streams/destroy.js:92:8)\n",
      "    at emitErrorAndCloseNT (internal/streams/destroy.js:60:3)\n",
      "    at processTicksAndRejections (internal/process/task_queues.js:84:21)\n",
      "(node:15432) UnhandledPromiseRejectionWarning: Unhandled promise rejection. This error originated either by throwing inside of an async function without a catch block, or by rejecting a promise which was not handled with .catch(). To terminate the node process on unhandled promise rejection, use the CLI flag `--unhandled-rejections=strict` (see https://nodejs.org/api/cli.html#cli_unhandled_rejections_mode). (rejection id: 1)\n",
      "(node:15432) [DEP0018] DeprecationWarning: Unhandled promise rejections are deprecated. In the future, promise rejections that are not handled will terminate the Node.js process with a non-zero exit code.\n"
     ]
    }
   ],
   "source": [
    "!node src/getbal.js"
   ]
  },
  {
   "cell_type": "code",
   "execution_count": null,
   "metadata": {},
   "outputs": [],
   "source": []
  }
 ],
 "metadata": {
  "kernelspec": {
   "display_name": "Python 3",
   "language": "python",
   "name": "python3"
  },
  "language_info": {
   "codemirror_mode": {
    "name": "ipython",
    "version": 3
   },
   "file_extension": ".py",
   "mimetype": "text/x-python",
   "name": "python",
   "nbconvert_exporter": "python",
   "pygments_lexer": "ipython3",
   "version": "3.7.3"
  }
 },
 "nbformat": 4,
 "nbformat_minor": 2
}
